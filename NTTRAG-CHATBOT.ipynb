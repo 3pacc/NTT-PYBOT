{
 "cells": [
  {
   "cell_type": "code",
   "execution_count": 1,
   "id": "0a3b03f6",
   "metadata": {},
   "outputs": [
    {
     "name": "stdout",
     "output_type": "stream",
     "text": [
      "3.11.5\n"
     ]
    }
   ],
   "source": [
    "from platform import python_version\n",
    "\n",
    "print(python_version())"
   ]
  },
  {
   "cell_type": "markdown",
   "id": "551a22af",
   "metadata": {},
   "source": [
    "# Create and run a local RAG pipeline \n",
    "\n",
    "The goal of this notebook is to build a RAG (Retrieval Augmented Generation) pipeline from scratch and have it run on a local GPU.\n",
    "\n",
    "Specifically, we'd like to be able to open a PDF file, ask questions (queries) of it and have them answered by a Large Language Model (LLM).\n",
    "\n",
    "There are frameworks that replicate this kind of workflow, including [LlamaIndex](https://www.llamaindex.ai/) and [LangChain](https://www.langchain.com/), however, the goal of building from scratch is to be able to inspect and customize all the parts."
   ]
  },
  {
   "cell_type": "markdown",
   "id": "fe6e0ee1",
   "metadata": {},
   "source": [
    "## Import PDF Document\n",
    "\n",
    "\n"
   ]
  },
  {
   "cell_type": "code",
   "execution_count": 7,
   "id": "4d24281e",
   "metadata": {},
   "outputs": [
    {
     "name": "stdout",
     "output_type": "stream",
     "text": [
      "File human-nutrition-text.pdf exists.\n"
     ]
    }
   ],
   "source": [
    "import os\n",
    "import requests\n",
    "\n",
    "# Get PDF document path\n",
    "pdf_path = \"human-nutrition-text.pdf\"\n",
    "\n",
    "# Download PDF\n",
    "if not os.path.exists(pdf_path):\n",
    "    print(\"[INFO] File doesn't exist, downloading...\")\n",
    "\n",
    "    # Enter the URL of the PDF\n",
    "    url = \"https://students.aiu.edu/submissions/profiles/resources/onlineBook/q9f4h2_Health_Care_Systems_Around_the_World.pdf\"\n",
    "\n",
    "    # The local filename to save the downloaded file\n",
    "    filename = pdf_path\n",
    "\n",
    "    # Send a GET request to the URL\n",
    "    response = requests.get(url)\n",
    "\n",
    "    # Check if the request was successful\n",
    "    if response.status_code == 200:\n",
    "        # Open the file and save it\n",
    "        with open(filename, \"wb\") as file:\n",
    "            file.write(response.content) \n",
    "        print(f\"[INFO] The file has been download and saved as {filename}\")\n",
    "    else:\n",
    "        print(f\"[INFO] Failed to download the file. Status code: {reponse.status_code}\")\n",
    "\n",
    "else:\n",
    "    print(f\"File {pdf_path} exists.\")"
   ]
  },
  {
   "cell_type": "markdown",
   "id": "95d50f15",
   "metadata": {},
   "source": [
    "Let's open the PDF after downloading it !"
   ]
  },
  {
   "cell_type": "code",
   "execution_count": 46,
   "id": "4e2c8dd1",
   "metadata": {
    "scrolled": true
   },
   "outputs": [
    {
     "data": {
      "application/vnd.jupyter.widget-view+json": {
       "model_id": "dedb6bb048824fae967b08c298ee4e71",
       "version_major": 2,
       "version_minor": 0
      },
      "text/plain": [
       "0it [00:00, ?it/s]"
      ]
     },
     "metadata": {},
     "output_type": "display_data"
    },
    {
     "data": {
      "text/plain": [
       "[{'page_number': -31,\n",
       "  'page_char_count': 0,\n",
       "  'page_word_count': 1,\n",
       "  'page_setence_count_raw': 1,\n",
       "  'page_token_count': 0.0,\n",
       "  'text': ''},\n",
       " {'page_number': -30,\n",
       "  'page_char_count': 37,\n",
       "  'page_word_count': 7,\n",
       "  'page_setence_count_raw': 1,\n",
       "  'page_token_count': 9.25,\n",
       "  'text': 'HEALTH CARE SYSTEMS  AROUND THE WORLD'},\n",
       " {'page_number': -29,\n",
       "  'page_char_count': 0,\n",
       "  'page_word_count': 1,\n",
       "  'page_setence_count_raw': 1,\n",
       "  'page_token_count': 0.0,\n",
       "  'text': ''}]"
      ]
     },
     "execution_count": 46,
     "metadata": {},
     "output_type": "execute_result"
    }
   ],
   "source": [
    "import fitz # requires: !pip install PyMuPDF, see: https://github.com/pymupdf/PyMuPDF \n",
    "from tqdm.auto import tqdm # pip install tqdm\n",
    "\n",
    "def text_formatter(text: str) -> str: \n",
    "    \"\"\"Performs minor formatting on text.\"\"\"\n",
    "    cleaned_text = text.replace(\"\\n\", \" \").strip()\n",
    "\n",
    "    # Potentially more text formatting functions can go here\n",
    "    return cleaned_text\n",
    "\n",
    "def open_and_read_pdf(pdf_path: str) -> list[dict]:\n",
    "    doc = fitz.open(pdf_path)\n",
    "    pages_and_texts = [] \n",
    "    for page_number, page in tqdm(enumerate(doc)):\n",
    "        text = page.get_text()\n",
    "        text = text_formatter(text=text)\n",
    "        pages_and_texts.append({\"page_number\": page_number - 31,\n",
    "                                \"page_char_count\": len(text),\n",
    "                                \"page_word_count\": len(text.split(\" \")),\n",
    "                                \"page_setence_count_raw\": len(text.split(\". \")),\n",
    "                                \"page_token_count\": len(text) / 4, # 1 token = ~4 characters\n",
    "                                \"text\": text})\n",
    "    return pages_and_texts\n",
    "\n",
    "pages_and_texts = open_and_read_pdf(pdf_path=pdf_path)\n",
    "pages_and_texts[:3]"
   ]
  },
  {
   "cell_type": "code",
   "execution_count": 47,
   "id": "6c5c55b7",
   "metadata": {
    "scrolled": true
   },
   "outputs": [
    {
     "data": {
      "text/plain": [
       "[{'page_number': 477,\n",
       "  'page_char_count': 4164,\n",
       "  'page_word_count': 712,\n",
       "  'page_setence_count_raw': 23,\n",
       "  'page_token_count': 1041.0,\n",
       "  'text': '478\\t TUVALU In 2010, tuberculosis incidence was 66.0 per  100,000 population, tuberculosis prevalence 77.0  per 100,000, and deaths due to tuberculosis among  human immunodeficiency virus (HIV)-negative  people 20.00 per 100,000. As of 2009, an estimated  0.1 percent of adults age 15 to 49 were living with  HIV or acquired immune deficiency syndrome  (AIDS).  Health Care Personnel Turkmenistan has one medical school, Turkmen Dru\\xad zbi Narodov Medical Institute in Ashkhabat, which  has been offering instruction since 1932. In 2007,  Turkmenistan had 2.44 physicians per 1,000 popula\\xad tion, 0.20 pharmaceutical personnel per 1,000, 0.14  dentistry personnel per 1,000, and 4.52 nurses and  midwives per 1,000. Government Role in Health Care According to WHO, in 2010, Turkmenistan spent  $535 million on health care, an amount that comes  to $106 per capita. All health care funding came from  domestic sources. The largest share of health care  spending was provided through government expen\\xad ditures (59 percent), with the remainder coming from  household expenditures (41 percent). In 2010, Turk\\xad menistan allocated 10 percent of its total government  expenditures to health, in the high range for lower- middle-income European countries; government  expenditures on health came to 1 percent of GDP,  in the low range for lower-middle-income European  countries. In 2009, according to WHO, official devel\\xad opment assistance (ODA) for health in Turkmenistan  came to $0.57 per capita.  Public Health Programs In 2005, 98 percent of the population in Turkmenistan  had access to improved sanitation facilities (97 percent  in rural areas and 99 percent in urban), and 84 percent  had access to improved sources of drinking water (72  percent in rural areas and 97 percent in urban). TUVALU Tuvalu is an island nation in the south Pacific Ocean;  the area of 10 square miles (26 square kilometers)  makes it about one-tenth the size of Washington,  D.C., and one of the smallest independent countries  in the world. The July 2012 population was estimated  at 10,169, the smallest in the United Nations (UN);  Funafuti is the capital. In 2010, 50 percent of the  population lived in urban areas, and the 2010 to 2015  annual rate of urbanization was estimated at 1.4 per\\xad cent. The population growth rate in 2012 was 0.7 per\\xad cent, the net migration rate negative 7.0 migrants per  1,000 population, the birth rate 23.4 births per 1,000,  and the total fertility rate 3.1 children per woman.  Tuvalu became in independent country in 1978;  it was previously a British colony called the Ellice  Islands and had also been part of the Gilbert and  Ellice Islands (citizens of the Ellice Islands voted to  separate from the Gilbert Islands in 1974). Because  Tuvalu is composed of coral atolls, it is extremely  sensitive to changes in sea level, and potable water  must be collected through catchment systems or pro\\xad duced by desalination; almost all food and fuel must  be imported, and Tuvalu receives much of its income  from remittances, licensing of the Internet domain  name “. tv,” and income from a trust fund supported  by Australia, New Zealand, Japan, and South Korea.  Life expectancy at birth in 2012 was estimated at 65.11  years, and estimated gross domestic product (GDP)  per capita in 2011 was $3,400. Emergency Health Services According to the World Health Organization (WHO),  as of 2007, Tuvalu had a formal and publicly available  emergency care (prehospital care) system accessible  through a national access number. Insurance Tuvalu provides free health care services to its citi\\xad zens; most care is provided through government  institutions, while specialized care is provided by  visiting teams of physicians and through referral to  overseas care.  Costs of Hospitalization No data available. Access to Health Care According to WHO, in 2007, 97.9 percent of births in  Tuvalu were attended by skilled personnel (for exam\\xad ple, physicians, nurses, or midwives), and 67 percent  of pregnant women received at least four prenatal care  visits. The 2010 immunization rates for 1-year-olds  were 89 percent for diphtheria and pertussis (DPT3),'},\n",
       " {'page_number': 9,\n",
       "  'page_char_count': 4648,\n",
       "  'page_word_count': 791,\n",
       "  'page_setence_count_raw': 23,\n",
       "  'page_token_count': 1162.0,\n",
       "  'text': '10\\t ANDORRA Health Care Personnel Algeria has 11 medical schools: the Institut National  d’Enseignement Supérieur en Sciences Médicales  of the University of Algiers, the Institut National  d’Enseignement Supérieur en Sciences Médicales  in Annaba, the Institut de Sciences Médicales of the  University of Batna, the Institut de Sciences Médi\\xad cales of the University of Blida, the Institut National  d’Enseignement Supérieur en Sciences Médicales in  Constantine, the Institut National d’Enseignement  Supérieur en Sciences Médicales in Mostaganem,  the Institut National d’Enseignement Supérieur en  Sciences Médicales in Oran, the Institut de Sciences  Médicales of the University of Sétif, the Institut de  Sciences Médicales of the University of Sidi Bel Abbes,  the Institut de Sciences Médicales of the University of  Tizi-Ouzou, and the Institut de Sciences Médicales of  the University of Tlemcen.  The course of training for the basic medical degree  lasts six or seven years, and the degree awarded is the  Docteur en Médecine (doctor of medicine), with the  license to practice medicine granted by the Ministère  de la Santé de la Population.  In 2007, Algeria had 1.21 physicians per 1,000  population, 0.24 pharmaceutical personnel per 1,000,  0.33 dentistry personnel per 1,000, 0.03 community  and traditional health workers per 1,000, and 1.95  nurses and midwives per 1,000. The global “brain  drain” (international migration of skilled personnel)  plays a role in this relative undersupply of medical  personnel in Algeria: Michael Clemens and Bunilla  Petterson estimate that 44 percent of Algerian-born  physicians and 9 percent of Algerian-born nurses are  working in one of nine developed countries, primar\\xad ily in France.  Government Role in Health Care According to WHO, in 2010, Algeria spent $6.3 bil\\xad lion on health care, or $178 per capita. The Algerian  health care system is funded entirely domestically,  with the government funding over three-quarters  (78 percent) of health care expenditures; households  purchase 21 percent of the total, with the remaining  1 percent being purchased by other entities. Govern\\xad ment and total spending on health have increased in  recent years, while out-of-pocket household spending  has remained fairly constant. In 2010, about 8 per\\xad cent of government resources were allocated to health  care. Compared to other upper-middle-income Afri\\xad can countries, Algeria ranks low in terms of total  government expenditure on health as a percent of  gross domestic product (GDP) and share of govern\\xad ment spending allocated to health. In 2009, according  to WHO, official development assistance (ODA) for  health in Algeria came to $0.33 per capita.  Public Health Programs According to WHO, in 2007, Algeria had 0.07 envi\\xad ronmental and public health workers per 1,000 pop\\xad ulation. As of 2010, access to improved sanitation  facilities (95 percent) and improved drinking water  sources (83 percent) was common, although not uni\\xad versal; access to both was lower in rural than in urban  areas, with only 88 percent of people in rural areas  having access to improved sanitation facilities and 79  percent to improved drinking water sources. Accord\\xad ing to C. B. Ijsselmuiden and colleagues, in 2007,  Algeria had four institutions offering postgraduate  public health programs.  ANDORRA Andorra is a mountainous, landlocked southwestern  European country sharing borders with France and  Spain. It is one of the smallest countries in Europe,  with a total area of 181 square miles (468 square kilo\\xad meters, about 2.5 times the size of Washington, D.C.)  and population (2012 estimate) of 85,082. In 2010, 88  percent of the population lived in urban areas, and the  2010 to 2015 annual rate of urbanization is estimated  at 1.1 percent. The capital and largest city is Andorra  La Vella (with a 2009 population estimated at 25,000).  The population growth rate in 2012 was 0.3 percent,  the birth rate 9.3 births per 1,000 population, the net  migration rate 0.0 migrants per 1,000, and the total  fertility rate 1.4 children per woman, among the 20  lowest rates in the world.  Until 1993, Andorra was ruled as a coprincipality  of Spain and France; in 1993, it became a parliamen\\xad tary democracy. In 2011, Andorra was classified as  a country with very high human development (the  highest of four categories) on the United Nations  Development  Programme’s  (UNDP’s)  Human  Development Index (HDI), with a score of 0.838 (on  a scale where 1 denotes high development and 0 low  development). Life expectancy at birth in 2012 was  estimated at 82.50 years, among the highest in the'},\n",
       " {'page_number': 517,\n",
       "  'page_char_count': 0,\n",
       "  'page_word_count': 1,\n",
       "  'page_setence_count_raw': 1,\n",
       "  'page_token_count': 0.0,\n",
       "  'text': ''},\n",
       " {'page_number': -6,\n",
       "  'page_char_count': 3843,\n",
       "  'page_word_count': 658,\n",
       "  'page_setence_count_raw': 25,\n",
       "  'page_token_count': 960.75,\n",
       "  'text': 'CHRONOLOGY\\t xxv pamphlets promoting health education; the first, cen\\xad tering on tuberculosis prevention, is distributed to  more than 10,000 individuals.  1910: About half of all U.S. physicians are members  of the American Medical Association (AMA); the  approximately 70,000 members of the AMA at this  time comprise a substantial increase from the approx\\xad imately 8,000 members in 1901.  1910: Abraham Flexner issues a report highly critical  of the state of American medical education, which  leads to the creation of higher standards and the clos\\xad ing of numerous medical schools.  1912: In the United States, the Progressive Party and  its candidate Teddy Roosevelt endorse social and  health insurance as part of its platform.  1913: Founding of the American College of Surgeons. 1916: In the United States, the Council on Medical  Education recommends that medical schools require  students to have completed one year of college; in  1918, this is increased to two years of college.  1917: As the United States enters World War I, the fed\\xad eral government establishes a new system of benefits  for veterans, including insurance, vocational rehabili\\xad tation, and disability compensation. 1918: In the United States, the federal government  makes its first state grants for public health services.  1918: A report by the American College of Surgeons  states that only 13 percent of U.S. hospitals meet its  standards; by 1932, more than 90 percent meet them.  1919: Canada creates a federal department of health  to set standards for food and medicines, enforce quar\\xad antines, and cooperate with voluntary organizations  and the provinces; the department was created in part  in response to the influenza pandemic of 1918.  1919: The International Federation of Red Cross and  Red Crescent Societies is founded in Paris, France (as  the League of Red Cross Societies).  1919: In the United States, a commission from the  state of Illinois reports that, for most people, the  primary cost of illness is not medical treatment but  lost wages.  1919: The University of British Columbia creates  Canada’s first university degree program for nurses.  1926: Joseph Goldberger demonstrates that pellagra,  a disease endemic in the American South, is caused  by a deficiency of niacin, after previously establishing  that consumption of a diet based primarily on corn  (typical of the poor in the South) was associated with  pellagra.  1928: In London, Sir Andrew Fleming discovers peni\\xad cillin and observes that it destroys colonies of bacte\\xad ria; however, regular use of the drug does not begin  until the 1940s.  1929: Baylor University develops a health insurance  plan for hospital care for a group of Dallas, Texas, teach\\xad ers; this plan is a precursor of the Blue Cross system.  1929: Atlantic City, New Jersey, hosts the first Interna\\xad tional Hospital Congress; observers note that Ameri\\xad can hospitals provide more clinical education and are  used by a broader range of social classes than those in  Europe. 1930: In the United States, Congress creates the Veter\\xad ans Administration to consolidate services provided  to military veterans.  1930: In the United States, 70 percent of graduates  from medical schools also hold bachelor’s degrees; by  1945, this is increased to 80 percent.  1932: The U.S. Public Health Service begins the  Tuskegee Study, observing the course of syphilis in  African Americans while not informing them of their  disease nor providing medical treatment; the study  ends in 1972, long after penicillin had become avail\\xad able, and prompts creation of the National Research  Act in 1974. 1933: The American Hospital Association approves  private hospital insurance. 1933: In the United States, the hospital bed occupancy  rate falls to 55 percent as fewer people can pay for care  due to the Great Depression.'},\n",
       " {'page_number': 335,\n",
       "  'page_char_count': 4633,\n",
       "  'page_word_count': 800,\n",
       "  'page_setence_count_raw': 28,\n",
       "  'page_token_count': 1158.25,\n",
       "  'text': '336\\t NIGER Zinder, Maradi, Agadez, Madaoua, Dosso, and Bob\\xad oye. MSF treated 249 patients in a cholera outbreak  in Zinder and cleaned four wells to keep the disease  from spreading further. Insurance Niger has a social insurance system covering mater\\xad nity benefits only. The system is funded through  employer contributions (8.4 percent of payroll) and is  part of the same system that provides Family Benefits.  Employers are required to provide certain medical  services, but there are no statutory medical benefits  other than maternity care. The cash maternity benefit  is 100 percent of earnings, paid for six weeks before  and eight weeks after the due date; an additional three  weeks may be added if there are complications. The  Family Benefits system provides a prenatal allowance  of CFAR 1,000 per month and a maternity allowance  paid as a lump sum of CFAR 10,000, and a birth allow\\xad ance of CFAR 10,000 is paid for the first three births;  receipt of these benefits requires that the woman  undergo prescribed medical exams. The Family Bene\\xad fits system also pays a family allowance of CFAR 1,000  per month per child until the child is 14 (extended to  18 for an apprentice and 21 if disabled or a student).  The system is administered by the National Social  Security Fund under the general supervision of the  Ministry of Public Administration and Labor.  Costs of Hospitalization No data available. Access to Health Care According to WHO, in 2006, 33 percent of births in  Niger were attended by skilled personnel (for exam\\xad ple, physicians, nurses, or midwives), and 15 percent  of pregnant women received at least four prenatal care  visits. The 2010 immunization rates for 1-year-olds  were 70 percent for diphtheria and pertussis (DPT3),  71 percent for measles (MCV), and 70 percent for  Hib (Hib3). In 2010, an estimated 29 percent of per\\xad sons with advanced human immunodeficiency virus  (HIV) infection were receiving antiretroviral therapy  in accordance with the 2010 WHO guidelines. Cost of Drugs Total pharmaceutical expenses in 2009 in Niger  came to XOF 32,747 million ($70.3 million), or XOF  2,153.30 ($4.60) per capita. Pharmaceutical expendi\\xad tures constituted 32.9 percent of total health spending,  and 1.3 percent of GDP. Most pharmaceutical expen\\xad ditures were paid for privately, with public expendi\\xad tures forming 5.6 percent of the total. Niger’s National  Medicines Policy (NMP) includes selection of drugs  for placement on the Essential Medicines List (EML),  and the right to access essential medicines and medical  technologies is specified in national legislation as part  of the right to health.  Medications are provided for free to children under  the age of 5, pregnant women, and the poor. Medica\\xad tions to treat tuberculosis and human immunode\\xad ficiency virus and acquired immune deficiency syn\\xad drome (HIV/AIDS) are provided for free, as are the  vaccines included on WHO’s Expanded Programme  for Immunization (EPI) list.  Health Care Facilities As of 2010, according to WHO, Niger had 16.07 health  posts per 100,000 population, 5.71 health centers per  100,000, 0.50 district or rural hospitals per 100,000,  0.07 provincial hospitals per 100,000, and 0.06 spe\\xad cialized hospitals per 100,000. In 2005, Niger had 0.31  hospital beds per 1,000 population, one of the 10 low\\xad est rates in the world. Major Health Issues In 2008, WHO estimated that 90 percent of years of  life lost in Niger were due to communicable diseases,  8 percent to noncommunicable diseases, and 3 percent  to injuries. In 2008, the age-standardized estimate of  cancer deaths was 74 per 100,000 for men and 89 per  100,000 for women; for cardiovascular disease and  diabetes, 351 per 100,000 for men and 412 per 100,000  for women; and for chronic respiratory disease, 95 per  100,000 for men and 56 per 100,000 for women. In  2008, the age-standardized death rate from malaria  was 79.6 per 100,000 population, the 10th-highest in  the world. In 2010, tuberculosis incidence was 185.0  per 100,000 population, tuberculosis prevalence 33.0  per 100,000, and deaths due to tuberculosis among  HIV-negative people 37.00 per 100,000. As of 2009,  an estimated 0.8 percent of adults age 15 to 49 were  living with HIV or AIDS.  Compared to other countries at a similar level of  development, Niger ranked next to last among 43 least- developed countries on the 2011 Mothers’ Index, pro\\xad duced by the international nongovernmental organiza\\xad tion (NGO) Save the Children, based on a number of  health and social factors relating to women, children,  and maternal and child care. Niger’s maternal mortality'}]"
      ]
     },
     "execution_count": 47,
     "metadata": {},
     "output_type": "execute_result"
    }
   ],
   "source": [
    "import math\n",
    "import random\n",
    "random.sample(pages_and_texts, k=5)"
   ]
  },
  {
   "cell_type": "code",
   "execution_count": 49,
   "id": "17b26999",
   "metadata": {
    "scrolled": true
   },
   "outputs": [
    {
     "data": {
      "text/html": [
       "<div>\n",
       "<style scoped>\n",
       "    .dataframe tbody tr th:only-of-type {\n",
       "        vertical-align: middle;\n",
       "    }\n",
       "\n",
       "    .dataframe tbody tr th {\n",
       "        vertical-align: top;\n",
       "    }\n",
       "\n",
       "    .dataframe thead th {\n",
       "        text-align: right;\n",
       "    }\n",
       "</style>\n",
       "<table border=\"1\" class=\"dataframe\">\n",
       "  <thead>\n",
       "    <tr style=\"text-align: right;\">\n",
       "      <th></th>\n",
       "      <th>page_number</th>\n",
       "      <th>page_char_count</th>\n",
       "      <th>page_word_count</th>\n",
       "      <th>page_setence_count_raw</th>\n",
       "      <th>page_token_count</th>\n",
       "      <th>text</th>\n",
       "    </tr>\n",
       "  </thead>\n",
       "  <tbody>\n",
       "    <tr>\n",
       "      <th>31</th>\n",
       "      <td>0</td>\n",
       "      <td>3837</td>\n",
       "      <td>687</td>\n",
       "      <td>21</td>\n",
       "      <td>959.25</td>\n",
       "      <td>AFGHANISTAN\\t 1 AFGHANISTAN Afghanistan is a l...</td>\n",
       "    </tr>\n",
       "    <tr>\n",
       "      <th>32</th>\n",
       "      <td>1</td>\n",
       "      <td>3576</td>\n",
       "      <td>594</td>\n",
       "      <td>14</td>\n",
       "      <td>894.00</td>\n",
       "      <td>2\\t AFGHANISTAN Extension of the BPHS to all r...</td>\n",
       "    </tr>\n",
       "    <tr>\n",
       "      <th>33</th>\n",
       "      <td>2</td>\n",
       "      <td>4944</td>\n",
       "      <td>868</td>\n",
       "      <td>27</td>\n",
       "      <td>1236.00</td>\n",
       "      <td>AFGHANISTAN\\t 3 2010, for 90 percent. In 2010,...</td>\n",
       "    </tr>\n",
       "    <tr>\n",
       "      <th>34</th>\n",
       "      <td>3</td>\n",
       "      <td>5098</td>\n",
       "      <td>874</td>\n",
       "      <td>28</td>\n",
       "      <td>1274.50</td>\n",
       "      <td>4\\t AFGHANISTAN several factors implicated in ...</td>\n",
       "    </tr>\n",
       "    <tr>\n",
       "      <th>35</th>\n",
       "      <td>4</td>\n",
       "      <td>4949</td>\n",
       "      <td>823</td>\n",
       "      <td>24</td>\n",
       "      <td>1237.25</td>\n",
       "      <td>AFGHANISTAN\\t 5 produced 140 community midwive...</td>\n",
       "    </tr>\n",
       "    <tr>\n",
       "      <th>...</th>\n",
       "      <td>...</td>\n",
       "      <td>...</td>\n",
       "      <td>...</td>\n",
       "      <td>...</td>\n",
       "      <td>...</td>\n",
       "      <td>...</td>\n",
       "    </tr>\n",
       "    <tr>\n",
       "      <th>601</th>\n",
       "      <td>570</td>\n",
       "      <td>2521</td>\n",
       "      <td>360</td>\n",
       "      <td>3</td>\n",
       "      <td>630.25</td>\n",
       "      <td>INDEX\\t 571 insurance, 417–418 Mothers’ Index ...</td>\n",
       "    </tr>\n",
       "    <tr>\n",
       "      <th>602</th>\n",
       "      <td>571</td>\n",
       "      <td>2582</td>\n",
       "      <td>377</td>\n",
       "      <td>2</td>\n",
       "      <td>645.50</td>\n",
       "      <td>572\\t INDEX government role in health care and...</td>\n",
       "    </tr>\n",
       "    <tr>\n",
       "      <th>603</th>\n",
       "      <td>572</td>\n",
       "      <td>2560</td>\n",
       "      <td>362</td>\n",
       "      <td>3</td>\n",
       "      <td>640.00</td>\n",
       "      <td>INDEX\\t 573 health care access, facilities, pe...</td>\n",
       "    </tr>\n",
       "    <tr>\n",
       "      <th>604</th>\n",
       "      <td>573</td>\n",
       "      <td>2554</td>\n",
       "      <td>369</td>\n",
       "      <td>4</td>\n",
       "      <td>638.50</td>\n",
       "      <td>574\\t INDEX government role in health care and...</td>\n",
       "    </tr>\n",
       "    <tr>\n",
       "      <th>605</th>\n",
       "      <td>574</td>\n",
       "      <td>1288</td>\n",
       "      <td>202</td>\n",
       "      <td>3</td>\n",
       "      <td>322.00</td>\n",
       "      <td>INDEX\\t 575 World Bank, 3 World Food Programme...</td>\n",
       "    </tr>\n",
       "  </tbody>\n",
       "</table>\n",
       "<p>575 rows × 6 columns</p>\n",
       "</div>"
      ],
      "text/plain": [
       "     page_number  page_char_count  page_word_count  page_setence_count_raw  \\\n",
       "31             0             3837              687                      21   \n",
       "32             1             3576              594                      14   \n",
       "33             2             4944              868                      27   \n",
       "34             3             5098              874                      28   \n",
       "35             4             4949              823                      24   \n",
       "..           ...              ...              ...                     ...   \n",
       "601          570             2521              360                       3   \n",
       "602          571             2582              377                       2   \n",
       "603          572             2560              362                       3   \n",
       "604          573             2554              369                       4   \n",
       "605          574             1288              202                       3   \n",
       "\n",
       "     page_token_count                                               text  \n",
       "31             959.25  AFGHANISTAN\\t 1 AFGHANISTAN Afghanistan is a l...  \n",
       "32             894.00  2\\t AFGHANISTAN Extension of the BPHS to all r...  \n",
       "33            1236.00  AFGHANISTAN\\t 3 2010, for 90 percent. In 2010,...  \n",
       "34            1274.50  4\\t AFGHANISTAN several factors implicated in ...  \n",
       "35            1237.25  AFGHANISTAN\\t 5 produced 140 community midwive...  \n",
       "..                ...                                                ...  \n",
       "601            630.25  INDEX\\t 571 insurance, 417–418 Mothers’ Index ...  \n",
       "602            645.50  572\\t INDEX government role in health care and...  \n",
       "603            640.00  INDEX\\t 573 health care access, facilities, pe...  \n",
       "604            638.50  574\\t INDEX government role in health care and...  \n",
       "605            322.00  INDEX\\t 575 World Bank, 3 World Food Programme...  \n",
       "\n",
       "[575 rows x 6 columns]"
      ]
     },
     "execution_count": 49,
     "metadata": {},
     "output_type": "execute_result"
    }
   ],
   "source": [
    "import pandas as pd\n",
    "\n",
    "df = pd.DataFrame(pages_and_texts)\n",
    "df.tail(-31)"
   ]
  },
  {
   "cell_type": "code",
   "execution_count": 50,
   "id": "bb508a15",
   "metadata": {
    "scrolled": true
   },
   "outputs": [
    {
     "data": {
      "text/html": [
       "<div>\n",
       "<style scoped>\n",
       "    .dataframe tbody tr th:only-of-type {\n",
       "        vertical-align: middle;\n",
       "    }\n",
       "\n",
       "    .dataframe tbody tr th {\n",
       "        vertical-align: top;\n",
       "    }\n",
       "\n",
       "    .dataframe thead th {\n",
       "        text-align: right;\n",
       "    }\n",
       "</style>\n",
       "<table border=\"1\" class=\"dataframe\">\n",
       "  <thead>\n",
       "    <tr style=\"text-align: right;\">\n",
       "      <th></th>\n",
       "      <th>page_number</th>\n",
       "      <th>page_char_count</th>\n",
       "      <th>page_word_count</th>\n",
       "      <th>page_setence_count_raw</th>\n",
       "      <th>page_token_count</th>\n",
       "    </tr>\n",
       "  </thead>\n",
       "  <tbody>\n",
       "    <tr>\n",
       "      <th>count</th>\n",
       "      <td>606.00</td>\n",
       "      <td>606.00</td>\n",
       "      <td>606.00</td>\n",
       "      <td>606.00</td>\n",
       "      <td>606.00</td>\n",
       "    </tr>\n",
       "    <tr>\n",
       "      <th>mean</th>\n",
       "      <td>271.50</td>\n",
       "      <td>3930.82</td>\n",
       "      <td>667.31</td>\n",
       "      <td>22.26</td>\n",
       "      <td>982.71</td>\n",
       "    </tr>\n",
       "    <tr>\n",
       "      <th>std</th>\n",
       "      <td>175.08</td>\n",
       "      <td>995.11</td>\n",
       "      <td>181.24</td>\n",
       "      <td>9.58</td>\n",
       "      <td>248.78</td>\n",
       "    </tr>\n",
       "    <tr>\n",
       "      <th>min</th>\n",
       "      <td>-31.00</td>\n",
       "      <td>0.00</td>\n",
       "      <td>1.00</td>\n",
       "      <td>1.00</td>\n",
       "      <td>0.00</td>\n",
       "    </tr>\n",
       "    <tr>\n",
       "      <th>25%</th>\n",
       "      <td>120.25</td>\n",
       "      <td>3564.25</td>\n",
       "      <td>612.25</td>\n",
       "      <td>20.00</td>\n",
       "      <td>891.06</td>\n",
       "    </tr>\n",
       "    <tr>\n",
       "      <th>50%</th>\n",
       "      <td>271.50</td>\n",
       "      <td>3977.50</td>\n",
       "      <td>694.00</td>\n",
       "      <td>24.00</td>\n",
       "      <td>994.38</td>\n",
       "    </tr>\n",
       "    <tr>\n",
       "      <th>75%</th>\n",
       "      <td>422.75</td>\n",
       "      <td>4684.75</td>\n",
       "      <td>801.75</td>\n",
       "      <td>27.00</td>\n",
       "      <td>1171.19</td>\n",
       "    </tr>\n",
       "    <tr>\n",
       "      <th>max</th>\n",
       "      <td>574.00</td>\n",
       "      <td>7990.00</td>\n",
       "      <td>902.00</td>\n",
       "      <td>129.00</td>\n",
       "      <td>1997.50</td>\n",
       "    </tr>\n",
       "  </tbody>\n",
       "</table>\n",
       "</div>"
      ],
      "text/plain": [
       "       page_number  page_char_count  page_word_count  page_setence_count_raw  \\\n",
       "count       606.00           606.00           606.00                  606.00   \n",
       "mean        271.50          3930.82           667.31                   22.26   \n",
       "std         175.08           995.11           181.24                    9.58   \n",
       "min         -31.00             0.00             1.00                    1.00   \n",
       "25%         120.25          3564.25           612.25                   20.00   \n",
       "50%         271.50          3977.50           694.00                   24.00   \n",
       "75%         422.75          4684.75           801.75                   27.00   \n",
       "max         574.00          7990.00           902.00                  129.00   \n",
       "\n",
       "       page_token_count  \n",
       "count            606.00  \n",
       "mean             982.71  \n",
       "std              248.78  \n",
       "min                0.00  \n",
       "25%              891.06  \n",
       "50%              994.38  \n",
       "75%             1171.19  \n",
       "max             1997.50  "
      ]
     },
     "execution_count": 50,
     "metadata": {},
     "output_type": "execute_result"
    }
   ],
   "source": [
    "df.describe().round(2)"
   ]
  },
  {
   "cell_type": "markdown",
   "id": "cd8dd6ca",
   "metadata": {},
   "source": [
    "## Chunking our sentences together\n",
    "The concept of splitting larger pieces of text into smaller ones is often referred to as text splitting or chunking.\n",
    "\n",
    "There is no 100% correct way to do this.\n",
    "\n",
    "We'll keep it simple and split into groups of 10 sentences (however, you could also try 5, 7, 8, whatever you like).\n",
    "\n",
    "There are frameworks such as LangChain which can help with this, however, we'll stick with Python for now: https://python.langchain.com/docs/modules/data_connection/document_transformers/\n",
    "\n",
    "Why we do this:\n",
    "\n",
    "So our texts are easier to filter (smaller groups of text can be easier to inspect that large passages of text).\n",
    "So our text chunks can fit into our embedding model context window (e.g. 384 tokens as a limit).\n",
    "So our contexts passed to an LLM can be more specific and focused."
   ]
  },
  {
   "cell_type": "code",
   "execution_count": 65,
   "id": "5bcef85c",
   "metadata": {},
   "outputs": [
    {
     "name": "stdout",
     "output_type": "stream",
     "text": [
      "Requirement already satisfied: spacy in c:\\users\\3pac\\anaconda3\\lib\\site-packages (3.7.5)\n",
      "Requirement already satisfied: spacy-legacy<3.1.0,>=3.0.11 in c:\\users\\3pac\\anaconda3\\lib\\site-packages (from spacy) (3.0.12)\n",
      "Requirement already satisfied: spacy-loggers<2.0.0,>=1.0.0 in c:\\users\\3pac\\anaconda3\\lib\\site-packages (from spacy) (1.0.5)\n",
      "Requirement already satisfied: murmurhash<1.1.0,>=0.28.0 in c:\\users\\3pac\\anaconda3\\lib\\site-packages (from spacy) (1.0.10)\n",
      "Requirement already satisfied: cymem<2.1.0,>=2.0.2 in c:\\users\\3pac\\anaconda3\\lib\\site-packages (from spacy) (2.0.8)\n",
      "Requirement already satisfied: preshed<3.1.0,>=3.0.2 in c:\\users\\3pac\\anaconda3\\lib\\site-packages (from spacy) (3.0.9)\n",
      "Requirement already satisfied: thinc<8.3.0,>=8.2.2 in c:\\users\\3pac\\anaconda3\\lib\\site-packages (from spacy) (8.2.5)\n",
      "Requirement already satisfied: wasabi<1.2.0,>=0.9.1 in c:\\users\\3pac\\anaconda3\\lib\\site-packages (from spacy) (1.1.3)\n",
      "Requirement already satisfied: srsly<3.0.0,>=2.4.3 in c:\\users\\3pac\\anaconda3\\lib\\site-packages (from spacy) (2.4.8)\n",
      "Requirement already satisfied: catalogue<2.1.0,>=2.0.6 in c:\\users\\3pac\\anaconda3\\lib\\site-packages (from spacy) (2.0.10)\n",
      "Requirement already satisfied: weasel<0.5.0,>=0.1.0 in c:\\users\\3pac\\anaconda3\\lib\\site-packages (from spacy) (0.4.1)\n",
      "Requirement already satisfied: typer<1.0.0,>=0.3.0 in c:\\users\\3pac\\anaconda3\\lib\\site-packages (from spacy) (0.12.3)\n",
      "Requirement already satisfied: tqdm<5.0.0,>=4.38.0 in c:\\users\\3pac\\anaconda3\\lib\\site-packages (from spacy) (4.65.0)\n",
      "Requirement already satisfied: requests<3.0.0,>=2.13.0 in c:\\users\\3pac\\anaconda3\\lib\\site-packages (from spacy) (2.31.0)\n",
      "Requirement already satisfied: pydantic!=1.8,!=1.8.1,<3.0.0,>=1.7.4 in c:\\users\\3pac\\anaconda3\\lib\\site-packages (from spacy) (1.10.8)\n",
      "Requirement already satisfied: jinja2 in c:\\users\\3pac\\anaconda3\\lib\\site-packages (from spacy) (3.1.2)\n",
      "Requirement already satisfied: setuptools in c:\\users\\3pac\\anaconda3\\lib\\site-packages (from spacy) (68.0.0)\n",
      "Requirement already satisfied: packaging>=20.0 in c:\\users\\3pac\\anaconda3\\lib\\site-packages (from spacy) (23.2)\n",
      "Requirement already satisfied: langcodes<4.0.0,>=3.2.0 in c:\\users\\3pac\\anaconda3\\lib\\site-packages (from spacy) (3.4.0)\n",
      "Requirement already satisfied: numpy>=1.19.0 in c:\\users\\3pac\\anaconda3\\lib\\site-packages (from spacy) (1.26.4)\n",
      "Requirement already satisfied: language-data>=1.2 in c:\\users\\3pac\\anaconda3\\lib\\site-packages (from langcodes<4.0.0,>=3.2.0->spacy) (1.2.0)\n",
      "Requirement already satisfied: typing-extensions>=4.2.0 in c:\\users\\3pac\\anaconda3\\lib\\site-packages (from pydantic!=1.8,!=1.8.1,<3.0.0,>=1.7.4->spacy) (4.12.2)\n",
      "Requirement already satisfied: charset-normalizer<4,>=2 in c:\\users\\3pac\\anaconda3\\lib\\site-packages (from requests<3.0.0,>=2.13.0->spacy) (2.0.4)\n",
      "Requirement already satisfied: idna<4,>=2.5 in c:\\users\\3pac\\anaconda3\\lib\\site-packages (from requests<3.0.0,>=2.13.0->spacy) (3.4)\n",
      "Requirement already satisfied: urllib3<3,>=1.21.1 in c:\\users\\3pac\\anaconda3\\lib\\site-packages (from requests<3.0.0,>=2.13.0->spacy) (1.26.16)\n",
      "Requirement already satisfied: certifi>=2017.4.17 in c:\\users\\3pac\\anaconda3\\lib\\site-packages (from requests<3.0.0,>=2.13.0->spacy) (2024.7.4)\n",
      "Requirement already satisfied: blis<0.8.0,>=0.7.8 in c:\\users\\3pac\\anaconda3\\lib\\site-packages (from thinc<8.3.0,>=8.2.2->spacy) (0.7.11)\n",
      "Requirement already satisfied: confection<1.0.0,>=0.0.1 in c:\\users\\3pac\\anaconda3\\lib\\site-packages (from thinc<8.3.0,>=8.2.2->spacy) (0.1.5)\n",
      "Requirement already satisfied: colorama in c:\\users\\3pac\\anaconda3\\lib\\site-packages (from tqdm<5.0.0,>=4.38.0->spacy) (0.4.6)\n",
      "Requirement already satisfied: click>=8.0.0 in c:\\users\\3pac\\appdata\\roaming\\python\\python311\\site-packages (from typer<1.0.0,>=0.3.0->spacy) (8.1.7)\n",
      "Requirement already satisfied: shellingham>=1.3.0 in c:\\users\\3pac\\anaconda3\\lib\\site-packages (from typer<1.0.0,>=0.3.0->spacy) (1.5.4)\n",
      "Requirement already satisfied: rich>=10.11.0 in c:\\users\\3pac\\anaconda3\\lib\\site-packages (from typer<1.0.0,>=0.3.0->spacy) (13.7.1)\n",
      "Requirement already satisfied: cloudpathlib<1.0.0,>=0.7.0 in c:\\users\\3pac\\anaconda3\\lib\\site-packages (from weasel<0.5.0,>=0.1.0->spacy) (0.18.1)\n",
      "Requirement already satisfied: smart-open<8.0.0,>=5.2.1 in c:\\users\\3pac\\anaconda3\\lib\\site-packages (from weasel<0.5.0,>=0.1.0->spacy) (5.2.1)\n",
      "Requirement already satisfied: MarkupSafe>=2.0 in c:\\users\\3pac\\anaconda3\\lib\\site-packages (from jinja2->spacy) (2.1.1)\n",
      "Requirement already satisfied: marisa-trie>=0.7.7 in c:\\users\\3pac\\anaconda3\\lib\\site-packages (from language-data>=1.2->langcodes<4.0.0,>=3.2.0->spacy) (1.2.0)\n",
      "Requirement already satisfied: markdown-it-py>=2.2.0 in c:\\users\\3pac\\anaconda3\\lib\\site-packages (from rich>=10.11.0->typer<1.0.0,>=0.3.0->spacy) (2.2.0)\n",
      "Requirement already satisfied: pygments<3.0.0,>=2.13.0 in c:\\users\\3pac\\anaconda3\\lib\\site-packages (from rich>=10.11.0->typer<1.0.0,>=0.3.0->spacy) (2.15.1)\n",
      "Requirement already satisfied: mdurl~=0.1 in c:\\users\\3pac\\anaconda3\\lib\\site-packages (from markdown-it-py>=2.2.0->rich>=10.11.0->typer<1.0.0,>=0.3.0->spacy) (0.1.0)\n",
      "Note: you may need to restart the kernel to use updated packages.\n"
     ]
    }
   ],
   "source": [
    "pip install spacy"
   ]
  },
  {
   "cell_type": "code",
   "execution_count": 66,
   "id": "3bdde739",
   "metadata": {},
   "outputs": [
    {
     "data": {
      "text/plain": [
       "[This is a sentence., This another sentence., I like elephants.]"
      ]
     },
     "execution_count": 66,
     "metadata": {},
     "output_type": "execute_result"
    }
   ],
   "source": [
    "from spacy.lang.en import English\n",
    "\n",
    "nlp = English()\n",
    "\n",
    "# Add a sentencizer pipeline, see https://spacy.io/api/sentencizer \n",
    "nlp.add_pipe(\"sentencizer\")\n",
    "\n",
    "# Create document instance as an example\n",
    "doc = nlp(\"This is a sentence. This another sentence. I like elephants.\")\n",
    "assert len(list(doc.sents)) == 3\n",
    "\n",
    "# Print out our sentences split\n",
    "list(doc.sents)"
   ]
  },
  {
   "cell_type": "code",
   "execution_count": 68,
   "id": "7bd6208b",
   "metadata": {},
   "outputs": [
    {
     "data": {
      "text/plain": [
       "{'page_number': 500,\n",
       " 'page_char_count': 4463,\n",
       " 'page_word_count': 760,\n",
       " 'page_setence_count_raw': 23,\n",
       " 'page_token_count': 1115.75,\n",
       " 'text': 'UZBEKISTAN\\t 501 where 1 denotes high development and 0 low develop\\xad ment). Life expectancy at birth in 2012 was estimated  at 72.77 years, and estimated gross domestic product  (GDP) per capita in 2011 was $3,300. In 2003, the  Gini Index (a measure of dispersion, in which perfect  equality is denoted by 0 and maximum inequality is  denoted by 100) for family income was 36.8. Emergency Health Services According to the World Health Organization  (WHO), as of 2007, Uzbekistan had a formal and  publicly available emergency care (prehospital care)  system accessible through a national access number.  Doctors Without Borders (Médecins Sans Frontières,  or MSF) began working in Uzbekistan in 1997 and  had 117 staff members in the country at the close of  2010. MSF’s primary focus is diagnosis and treatment  of drug-resistant tuberculosis, and it currently pro\\xad vides care in four districts; MSF also provides social  and psychological counseling for family members  of tuberculosis patients and promotes innovative  approaches to tuberculosis treatment and care. MSF  also provided counseling and relief to refugees from  the conflict in Kyrgyzstan.  Insurance Uzbekistan has a universal medical system covering  everyone residing in the country and a social insur\\xad ance system providing cash sickness and maternity  benefits. The medical benefits system is entirely  funded by general tax revenues, while the cash ben\\xad efits system is part of the same system that provides  pensions and is financed through contributions  from wages (4 percent), self-employed income (at  least the same amount as a person earning the mini\\xad mum wage), and employers (25 percent of payroll);  the government covers the cost of social pensions  and makes up deficits. Medical benefits are provided  directly through government health care providers;  benefits include hospitalization, medical care, medi\\xad cines, and prostheses.  The maternity benefit is 100 percent of wages for 70  days before and 56 days after childbirth, with exten\\xad sions for multiple births or complications. Mothers  remaining at home to care for children younger than  age 2 are entitled to paid leave (20 percent of wages)  and unpaid leave to care for a child between the ages  of 2 and 3. The sickness benefit is 60 to 100 percent of  wages, depending on the length of employment and  number of children. The Ministry of Health and local  health departments provide medical services through  government hospitals, clinics, and other facilities; the  Extrabudgetary Pension Fund administers the mater\\xad nity benefits; the Department of Social Protection  pays the cash benefits, and the system is coordinated  and supervised by the Ministry of Labor and Social  Protections.  Costs of Hospitalization No data available. Access to Health Care According to WHO, in 2006, 100 percent of births in  Uzbekistan were attended by skilled personnel (for  example, physicians, nurses, or midwives). The 2010  immunization rates for 1-year-olds were 99 percent  for diphtheria and pertussis (DPT3), 98 percent  for measles (MCV), and 99 percent for Hib (Hib3).  In 2010, an estimated 28 percent of persons with  advanced human immunodeficiency virus (HIV)  infection were receiving antiretroviral therapy in  accordance with the 2010 WHO guidelines. Cost of Drugs According to WHO, in 2004, the median availabil\\xad ity of selected generic drugs in the private sector in  Uzbekistan was 82.5 percent; the median price ratio  (comparing the price in Uzbekistan to the interna\\xad tional reference price) was 2.0 in the private sphere  for selected generic medicines, indicating that median  prices in the public sphere were twice as high as the  international reference price. Health Care Facilities In 2007, Uzbekistan had 4.83 hospital beds per 1,000  population, among the 50 highest rates in the world. Major Health Issues In 2008, WHO estimated that 34 percent of years of  life lost in Uzbekistan were due to communicable dis\\xad eases, 55 percent to noncommunicable diseases, and  10 percent to injuries. In 2008, the age-standardized  estimate of cancer deaths was 77 per 100,000 for men  and 66 per 100,000 for women; for cardiovascular dis\\xad ease and diabetes, 718 per 100,000 for men and 564  per 100,000 for women; and for chronic respiratory  disease, 33 per 100,000 for men and 22 per 100,000  for women.  Uzbekistan’s maternal mortality rate (death from  any cause related to or aggravated by pregnancy) in'}"
      ]
     },
     "execution_count": 68,
     "metadata": {},
     "output_type": "execute_result"
    }
   ],
   "source": [
    "pages_and_texts[531]"
   ]
  },
  {
   "cell_type": "code",
   "execution_count": 69,
   "id": "bc042856",
   "metadata": {},
   "outputs": [
    {
     "data": {
      "application/vnd.jupyter.widget-view+json": {
       "model_id": "af67d3490aad4bc5a48c6b4c9090178f",
       "version_major": 2,
       "version_minor": 0
      },
      "text/plain": [
       "  0%|          | 0/606 [00:00<?, ?it/s]"
      ]
     },
     "metadata": {},
     "output_type": "display_data"
    }
   ],
   "source": [
    "for item in tqdm(pages_and_texts):\n",
    "    item[\"sentences\"] = list(nlp(item[\"text\"]).sents)\n",
    "\n",
    "    # Make sure all sentences are strings (the default type is a spaCy datatype)\n",
    "    item[\"sentences\"] = [str(sentence) for sentence in item[\"sentences\"]]\n",
    "\n",
    "    # Count the sentences\n",
    "    item[\"page_sentence_count_spacy\"] = len(item[\"sentences\"])"
   ]
  },
  {
   "cell_type": "code",
   "execution_count": 70,
   "id": "0b12cdbe",
   "metadata": {},
   "outputs": [
    {
     "data": {
      "text/plain": [
       "[{'page_number': 353,\n",
       "  'page_char_count': 3575,\n",
       "  'page_word_count': 635,\n",
       "  'page_setence_count_raw': 20,\n",
       "  'page_token_count': 893.75,\n",
       "  'text': '354\\t PANAMA Public Health Programs According to WHO, in 2000 (the most recent year for  which data is available), Palau had 0.07 environmen\\xad tal and public health workers per 1,000 population.  In 2010, access to improved sanitation facilities was  essentially universal, while 85 percent of the popula\\xad tion had access to improved sources of drinking water  (96 percent in rural areas and 83 percent in urban). PANAMA Panama is a Central American country, sharing bor\\xad ders with Costa Rica and Colombia and having coast\\xad lines on the Caribbean Sea and the north Pacific  Ocean. The area of 29,120 square miles (75,420 square  kilometers) makes Panama about the size of South  Carolina, and the July 2012 population was estimated  at 3.5 million. In 2010, 75 percent of the population  lived in urban areas, and the 2010 to 2015 annual rate  of urbanization was estimated at 2.3 percent. Panama  City is the capital and largest city (with a 2009 popula\\xad tion estimated at 1.3 million). The population growth  rate in 2012 was 1.4 percent, the net migration rate  negative 0.4 migrants per 1,000 population, the birth  rate 19.2 births per 1,000, and the total fertility rate  12.4 children per woman. The United Nations High  Commissioner for Refugees (UNHCR) estimated  that, in 2010, there were 3,967 refugees and persons in  refugee-like situations in Panama. Panama was colo\\xad nized by Spain in the 16th century. In 1821, Panama  joined the Union of Gran Colombia (with Colom\\xad bia, Ecuador, and Venezuela) and remained part of  Colombia when the union dissolved in 1830. Panama  seceded from Colombia in 1903 and signed a treaty  allowing the United States to construct the Panama  Canal; the Panama Canal Zone, the area around the  Panama Canal, was U.S. territory until it was trans\\xad ferred back to Panama in 1999. Panama ranked tied  for 86th among 183 countries on the Corruption Per\\xad ceptions Index 2011, with a score of 3.3 (on a scale  where 0 indicates highly corrupt and 10 very clean). In 2011, Panama was classified as a country with  high human development (the second-highest cat\\xad egory) on the United Nations Development Pro\\xad gramme’s (UNDP’s) Human Development Index  (HDI), with a score of 0.768 (on a scale where 1  denotes high development and 0 low development).  Life expectancy at birth in 2012 was estimated at 77.96  years, and per capita gross domestic product (GDP) in  2011 was estimated at $13,600. Income distribution in  Panama is relatively unequal: In 2010, the Gini Index  (a measure of dispersion, in which perfect equality is  denoted by 0 and maximum inequality is denoted by  100) for family income was estimated at 51.9, among  the 20 highest in the world. According to the World  Economic Forum’s Global Gender Gap Index 2011,  Panama ranked 40th out of 135 countries on gender  equality with a score of 0.704 (on a scale with a theo\\xad retical range of 1 for equality to 0 for inequality and  an actual range in 2011 from 0.8530 to 0.4873). Emergency Health Services According to the World Health Organization (WHO),  as of 2007, Panama had a formal and publicly avail\\xad able emergency care (prehospital care) system acces\\xad sible through regional access numbers, but not a  national access number. All public and private insti\\xad tutions provide first aid at no cost. Panama City has  an integrated system of ambulances whose services  are provided free to the public, while in other parts of  the country, different operating units provide emer\\xad gency care; however, there are no unified protocols for  emergency management and referral.',\n",
       "  'sentences': ['354\\t PANAMA Public Health Programs According to WHO, in 2000 (the most recent year for  which data is available), Palau had 0.07 environmen\\xad tal and public health workers per 1,000 population.',\n",
       "   ' In 2010, access to improved sanitation facilities was  essentially universal, while 85 percent of the popula\\xad tion had access to improved sources of drinking water  (96 percent in rural areas and 83 percent in urban).',\n",
       "   'PANAMA Panama is a Central American country, sharing bor\\xad ders with Costa Rica and Colombia and having coast\\xad lines on the Caribbean Sea and the north Pacific  Ocean.',\n",
       "   'The area of 29,120 square miles (75,420 square  kilometers) makes Panama about the size of South  Carolina, and the July 2012 population was estimated  at 3.5 million.',\n",
       "   'In 2010, 75 percent of the population  lived in urban areas, and the 2010 to 2015 annual rate  of urbanization was estimated at 2.3 percent.',\n",
       "   'Panama  City is the capital and largest city (with a 2009 popula\\xad tion estimated at 1.3 million).',\n",
       "   'The population growth  rate in 2012 was 1.4 percent, the net migration rate  negative 0.4 migrants per 1,000 population, the birth  rate 19.2 births per 1,000, and the total fertility rate  12.4 children per woman.',\n",
       "   'The United Nations High  Commissioner for Refugees (UNHCR) estimated  that, in 2010, there were 3,967 refugees and persons in  refugee-like situations in Panama.',\n",
       "   'Panama was colo\\xad nized by Spain in the 16th century.',\n",
       "   'In 1821, Panama  joined the Union of Gran Colombia (with Colom\\xad bia, Ecuador, and Venezuela) and remained part of  Colombia when the union dissolved in 1830.',\n",
       "   'Panama  seceded from Colombia in 1903 and signed a treaty  allowing the United States to construct the Panama  Canal; the Panama Canal Zone, the area around the  Panama Canal, was U.S. territory until it was trans\\xad ferred back to Panama in 1999.',\n",
       "   'Panama ranked tied  for 86th among 183 countries on the Corruption Per\\xad ceptions Index 2011, with a score of 3.3 (on a scale  where 0 indicates highly corrupt and 10 very clean).',\n",
       "   'In 2011, Panama was classified as a country with  high human development (the second-highest cat\\xad egory) on the United Nations Development Pro\\xad gramme’s (UNDP’s) Human Development Index  (HDI), with a score of 0.768 (on a scale where 1  denotes high development and 0 low development).',\n",
       "   ' Life expectancy at birth in 2012 was estimated at 77.96  years, and per capita gross domestic product (GDP) in  2011 was estimated at $13,600.',\n",
       "   'Income distribution in  Panama is relatively unequal: In 2010, the Gini Index  (a measure of dispersion, in which perfect equality is  denoted by 0 and maximum inequality is denoted by  100) for family income was estimated at 51.9, among  the 20 highest in the world.',\n",
       "   'According to the World  Economic Forum’s Global Gender Gap Index 2011,  Panama ranked 40th out of 135 countries on gender  equality with a score of 0.704 (on a scale with a theo\\xad retical range of 1 for equality to 0 for inequality and  an actual range in 2011 from 0.8530 to 0.4873).',\n",
       "   'Emergency Health Services According to the World Health Organization (WHO),  as of 2007, Panama had a formal and publicly avail\\xad able emergency care (prehospital care) system acces\\xad sible through regional access numbers, but not a  national access number.',\n",
       "   'All public and private insti\\xad tutions provide first aid at no cost.',\n",
       "   'Panama City has  an integrated system of ambulances whose services  are provided free to the public, while in other parts of  the country, different operating units provide emer\\xad gency care; however, there are no unified protocols for  emergency management and referral.'],\n",
       "  'page_sentence_count_spacy': 19}]"
      ]
     },
     "execution_count": 70,
     "metadata": {},
     "output_type": "execute_result"
    }
   ],
   "source": [
    "random.sample(pages_and_texts, k=1)"
   ]
  },
  {
   "cell_type": "code",
   "execution_count": 71,
   "id": "2ed7930b",
   "metadata": {},
   "outputs": [
    {
     "data": {
      "text/html": [
       "<div>\n",
       "<style scoped>\n",
       "    .dataframe tbody tr th:only-of-type {\n",
       "        vertical-align: middle;\n",
       "    }\n",
       "\n",
       "    .dataframe tbody tr th {\n",
       "        vertical-align: top;\n",
       "    }\n",
       "\n",
       "    .dataframe thead th {\n",
       "        text-align: right;\n",
       "    }\n",
       "</style>\n",
       "<table border=\"1\" class=\"dataframe\">\n",
       "  <thead>\n",
       "    <tr style=\"text-align: right;\">\n",
       "      <th></th>\n",
       "      <th>page_number</th>\n",
       "      <th>page_char_count</th>\n",
       "      <th>page_word_count</th>\n",
       "      <th>page_setence_count_raw</th>\n",
       "      <th>page_token_count</th>\n",
       "      <th>page_sentence_count_spacy</th>\n",
       "    </tr>\n",
       "  </thead>\n",
       "  <tbody>\n",
       "    <tr>\n",
       "      <th>count</th>\n",
       "      <td>606.00</td>\n",
       "      <td>606.00</td>\n",
       "      <td>606.00</td>\n",
       "      <td>606.00</td>\n",
       "      <td>606.00</td>\n",
       "      <td>606.00</td>\n",
       "    </tr>\n",
       "    <tr>\n",
       "      <th>mean</th>\n",
       "      <td>271.50</td>\n",
       "      <td>3930.82</td>\n",
       "      <td>667.31</td>\n",
       "      <td>22.26</td>\n",
       "      <td>982.71</td>\n",
       "      <td>21.66</td>\n",
       "    </tr>\n",
       "    <tr>\n",
       "      <th>std</th>\n",
       "      <td>175.08</td>\n",
       "      <td>995.11</td>\n",
       "      <td>181.24</td>\n",
       "      <td>9.58</td>\n",
       "      <td>248.78</td>\n",
       "      <td>8.37</td>\n",
       "    </tr>\n",
       "    <tr>\n",
       "      <th>min</th>\n",
       "      <td>-31.00</td>\n",
       "      <td>0.00</td>\n",
       "      <td>1.00</td>\n",
       "      <td>1.00</td>\n",
       "      <td>0.00</td>\n",
       "      <td>0.00</td>\n",
       "    </tr>\n",
       "    <tr>\n",
       "      <th>25%</th>\n",
       "      <td>120.25</td>\n",
       "      <td>3564.25</td>\n",
       "      <td>612.25</td>\n",
       "      <td>20.00</td>\n",
       "      <td>891.06</td>\n",
       "      <td>19.00</td>\n",
       "    </tr>\n",
       "    <tr>\n",
       "      <th>50%</th>\n",
       "      <td>271.50</td>\n",
       "      <td>3977.50</td>\n",
       "      <td>694.00</td>\n",
       "      <td>24.00</td>\n",
       "      <td>994.38</td>\n",
       "      <td>23.00</td>\n",
       "    </tr>\n",
       "    <tr>\n",
       "      <th>75%</th>\n",
       "      <td>422.75</td>\n",
       "      <td>4684.75</td>\n",
       "      <td>801.75</td>\n",
       "      <td>27.00</td>\n",
       "      <td>1171.19</td>\n",
       "      <td>27.00</td>\n",
       "    </tr>\n",
       "    <tr>\n",
       "      <th>max</th>\n",
       "      <td>574.00</td>\n",
       "      <td>7990.00</td>\n",
       "      <td>902.00</td>\n",
       "      <td>129.00</td>\n",
       "      <td>1997.50</td>\n",
       "      <td>69.00</td>\n",
       "    </tr>\n",
       "  </tbody>\n",
       "</table>\n",
       "</div>"
      ],
      "text/plain": [
       "       page_number  page_char_count  page_word_count  page_setence_count_raw  \\\n",
       "count       606.00           606.00           606.00                  606.00   \n",
       "mean        271.50          3930.82           667.31                   22.26   \n",
       "std         175.08           995.11           181.24                    9.58   \n",
       "min         -31.00             0.00             1.00                    1.00   \n",
       "25%         120.25          3564.25           612.25                   20.00   \n",
       "50%         271.50          3977.50           694.00                   24.00   \n",
       "75%         422.75          4684.75           801.75                   27.00   \n",
       "max         574.00          7990.00           902.00                  129.00   \n",
       "\n",
       "       page_token_count  page_sentence_count_spacy  \n",
       "count            606.00                     606.00  \n",
       "mean             982.71                      21.66  \n",
       "std              248.78                       8.37  \n",
       "min                0.00                       0.00  \n",
       "25%              891.06                      19.00  \n",
       "50%              994.38                      23.00  \n",
       "75%             1171.19                      27.00  \n",
       "max             1997.50                      69.00  "
      ]
     },
     "execution_count": 71,
     "metadata": {},
     "output_type": "execute_result"
    }
   ],
   "source": [
    "df = pd.DataFrame(pages_and_texts)\n",
    "df.describe().round(2)"
   ]
  },
  {
   "cell_type": "markdown",
   "id": "cc5bfb09",
   "metadata": {},
   "source": [
    "### Chunking our sentences together\n",
    "The concept of splitting larger pieces of text into smaller ones is often referred to as text splitting or chunking.\n",
    "\n",
    "There is no 100% correct way to do this.\n",
    "\n",
    "We'll keep it simple and split into groups of 10 sentences (however, you could also try 5, 7, 8, whatever you like).\n",
    "\n",
    "There are frameworks such as LangChain which can help with this, however, we'll stick with Python for now: https://python.langchain.com/docs/modules/data_connection/document_transformers/\n",
    "\n",
    "Why we do this:\n",
    "\n",
    "So our texts are easier to filter (smaller groups of text can be easier to inspect that large passages of text).\n",
    "So our text chunks can fit into our embedding model context window (e.g. 384 tokens as a limit).\n",
    "So our contexts passed to an LLM can be more specific and focused."
   ]
  },
  {
   "cell_type": "code",
   "execution_count": 72,
   "id": "06b18093",
   "metadata": {},
   "outputs": [
    {
     "data": {
      "text/plain": [
       "[[0, 1, 2, 3, 4, 5, 6, 7, 8, 9],\n",
       " [10, 11, 12, 13, 14, 15, 16, 17, 18, 19],\n",
       " [20, 21, 22, 23, 24]]"
      ]
     },
     "execution_count": 72,
     "metadata": {},
     "output_type": "execute_result"
    }
   ],
   "source": [
    "# Define split size to turn groups of sentences into chunks\n",
    "num_sentence_chunk_size = 10\n",
    "\n",
    "# Create a function to split lists of texts recursively into chunk size\n",
    "# e.g. [20] -> [10, 10] or [25] -> [10, 10, 5]\n",
    "def split_list(input_list: list[str],\n",
    "               slice_size: int=num_sentence_chunk_size) -> list[list[str]]:\n",
    "    return [input_list[i:i+slice_size] for i in range(0, len(input_list), slice_size)]\n",
    "\n",
    "test_list = list(range(25))\n",
    "split_list(test_list)"
   ]
  },
  {
   "cell_type": "code",
   "execution_count": 73,
   "id": "50554103",
   "metadata": {},
   "outputs": [
    {
     "data": {
      "application/vnd.jupyter.widget-view+json": {
       "model_id": "411c5b7811404368acb8eabe08a7dda5",
       "version_major": 2,
       "version_minor": 0
      },
      "text/plain": [
       "  0%|          | 0/606 [00:00<?, ?it/s]"
      ]
     },
     "metadata": {},
     "output_type": "display_data"
    }
   ],
   "source": [
    "# Loop through pages and texts and split sentences into chunks\n",
    "for item in tqdm(pages_and_texts):\n",
    "    item[\"sentence_chunks\"] = split_list(input_list=item[\"sentences\"],\n",
    "                                         slice_size=num_sentence_chunk_size)\n",
    "    item[\"num_chunks\"] = len(item[\"sentence_chunks\"])"
   ]
  },
  {
   "cell_type": "code",
   "execution_count": 74,
   "id": "4989cdb5",
   "metadata": {},
   "outputs": [
    {
     "data": {
      "text/plain": [
       "[{'page_number': 360,\n",
       "  'page_char_count': 4577,\n",
       "  'page_word_count': 782,\n",
       "  'page_setence_count_raw': 27,\n",
       "  'page_token_count': 1144.25,\n",
       "  'text': 'PERU\\t 361 operated one general hospital, one specialized hospi\\xad tal, 10 regional hospitals, five outlying clinics, and 60  first-level units. The National University of Asuncion  has a teaching hospital, providing care primarily for  low-income people, and the Police Clinic in Asuncion  provides the most complex hospital care available in  Paraguay. The private nonprofit sector operates 30  care facilities, and the private for-profit sector oper\\xad ate a number of hospitals, emergency services, phar\\xad macies, laboratories, physician offices, and other care  facilities. As of 2010, according to WHO, Paraguay had  10.18 health posts per 100,000 population, 1.83 health  centers per 100,000, 2.17 district or rural hospitals per  100,000, 0.12 provincial hospitals per 100,000, and  0.26 specialized hospitals per 100,000. In 2009, Para\\xad guay had 1.30 hospital beds per 1,000 population. As  of 2007, 26 outpatient facilities plus the Psychiatric  Hospital provide mental health services. Major Health Issues In 2008, WHO estimated that 35 percent of years of  life lost in Paraguay were due to communicable dis\\xad eases, 45 percent to noncommunicable diseases, and  21 percent to injuries. In 2008, the age-standardized  estimate of cancer deaths was 133 per 100,000 for men  and 98 per 100,000 for women; for cardiovascular dis\\xad ease and diabetes, 269 per 100,000 for men and 228  per 100,000 for women; and for chronic respiratory  disease, 24 per 100,000 for men and 10 per 100,000  for women.  Paraguay’s maternal mortality rate (death from  any cause related to or aggravated by pregnancy) was  estimated in 2008 as 95 maternal deaths per 100,000  live births. The infant mortality rate, defined as the  number of deaths of infants younger than 1 year, was  estimated at 22.24 per 1,000 live births as of 2012. In  2010, tuberculosis incidence was 46.0 per 100,000  population, tuberculosis prevalence 64.0 per 100,000,  and deaths due to tuberculosis among HIV-negative  people 4.20 per 100,000. As of 2009, an estimated 0.3  percent of adults age 15 to 49 were living with HIV or  acquired immune deficiency syndrome (AIDS).  Health Care Personnel As of 2007, Paraguay had four medical schools. The  basic medical degree course lasts six years, and the  degree awarded is Médico Cirujano (physician and  surgeon). In 2002, Paraguay had 1.11 physicians per  1,000 population, 0.33 pharmaceutical personnel  per 1,000, 0.55 dentistry personnel per 1,000, 1.15  community and traditional health workers per 1,000,  and 1.79 nurses and midwives per 1,000.  Government Role in Health Care According to WHO, in 2010, Paraguay spent $1.1 bil\\xad lion on health care, an amount that comes to $163 per  capita. Most (98 percent) health care funding came  from domestic sources, with 2 percent coming from  sources from abroad. More than half (57 percent) of  health care spending was paid for through household  expenditures, with the remainder provided through  government expenditures (36 percent) and other  sources (7 percent). In 2010, Paraguay allocated 11  percent of its total government expenditures to  health, and government expenditures on health came  to 2 percent of GDP; both figures are in the low range  for lower-middle-income Americas region countries.  In 2009, according to WHO, official development  assistance (ODA) for health in Paraguay came to  $3.63 per capita. Public Health Programs According to WHO, in 2002, Paraguay had 0.02 envi\\xad ronmental and public health workers per 1,000 pop\\xad ulation. In 2010, 71 percent of the population had  access to improved sanitation facilities (40 percent  in rural areas and 90 percent in urban), and 86 per\\xad cent had access to improved sources of drinking water  (66 percent in rural areas and 99 percent in urban).  According to the World Higher Education Database  (WHED), two universities in Paraguay offer programs  in epidemiology or public health: the National Uni\\xad versity of Asuncion, and the University of the Integra\\xad tion of the Americas in Asuncion.  PERU Peru is a northwestern South American country, shar\\xad ing borders with Bolivia, Brazil, Chile, Colombia, and  Ecuador and having a coastline on the south Pacific  Ocean. The area of 496,225 square miles (1,285,216  square kilometers) makes Peru the 20th-largest coun\\xad try in the world (similar in size to Alaska), and the July  2012 population was estimated at 29.5 million. In 2010,  77 percent of the population lived in urban areas, and  the 2010 to 2015 annual rate of urbanization was esti\\xad mated at 1.6 percent. Lima is the capital and largest',\n",
       "  'sentences': ['PERU\\t 361 operated one general hospital, one specialized hospi\\xad tal, 10 regional hospitals, five outlying clinics, and 60  first-level units.',\n",
       "   'The National University of Asuncion  has a teaching hospital, providing care primarily for  low-income people, and the Police Clinic in Asuncion  provides the most complex hospital care available in  Paraguay.',\n",
       "   'The private nonprofit sector operates 30  care facilities, and the private for-profit sector oper\\xad ate a number of hospitals, emergency services, phar\\xad macies, laboratories, physician offices, and other care  facilities.',\n",
       "   'As of 2010, according to WHO, Paraguay had  10.18 health posts per 100,000 population, 1.83 health  centers per 100,000, 2.17 district or rural hospitals per  100,000, 0.12 provincial hospitals per 100,000, and  0.26 specialized hospitals per 100,000.',\n",
       "   'In 2009, Para\\xad guay had 1.30 hospital beds per 1,000 population.',\n",
       "   'As  of 2007, 26 outpatient facilities plus the Psychiatric  Hospital provide mental health services.',\n",
       "   'Major Health Issues In 2008, WHO estimated that 35 percent of years of  life lost in Paraguay were due to communicable dis\\xad eases, 45 percent to noncommunicable diseases, and  21 percent to injuries.',\n",
       "   'In 2008, the age-standardized  estimate of cancer deaths was 133 per 100,000 for men  and 98 per 100,000 for women; for cardiovascular dis\\xad ease and diabetes, 269 per 100,000 for men and 228  per 100,000 for women; and for chronic respiratory  disease, 24 per 100,000 for men and 10 per 100,000  for women.',\n",
       "   ' Paraguay’s maternal mortality rate (death from  any cause related to or aggravated by pregnancy) was  estimated in 2008 as 95 maternal deaths per 100,000  live births.',\n",
       "   'The infant mortality rate, defined as the  number of deaths of infants younger than 1 year, was  estimated at 22.24 per 1,000 live births as of 2012.',\n",
       "   'In  2010, tuberculosis incidence was 46.0 per 100,000  population, tuberculosis prevalence 64.0 per 100,000,  and deaths due to tuberculosis among HIV-negative  people 4.20 per 100,000.',\n",
       "   'As of 2009, an estimated 0.3  percent of adults age 15 to 49 were living with HIV or  acquired immune deficiency syndrome (AIDS).',\n",
       "   ' Health Care Personnel As of 2007, Paraguay had four medical schools.',\n",
       "   'The  basic medical degree course lasts six years, and the  degree awarded is Médico Cirujano (physician and  surgeon).',\n",
       "   'In 2002, Paraguay had 1.11 physicians per  1,000 population, 0.33 pharmaceutical personnel  per 1,000, 0.55 dentistry personnel per 1,000, 1.15  community and traditional health workers per 1,000,  and 1.79 nurses and midwives per 1,000.',\n",
       "   ' Government Role in Health Care According to WHO, in 2010, Paraguay spent $1.1 bil\\xad lion on health care, an amount that comes to $163 per  capita.',\n",
       "   'Most (98 percent) health care funding came  from domestic sources, with 2 percent coming from  sources from abroad.',\n",
       "   'More than half (57 percent) of  health care spending was paid for through household  expenditures, with the remainder provided through  government expenditures (36 percent) and other  sources (7 percent).',\n",
       "   'In 2010, Paraguay allocated 11  percent of its total government expenditures to  health, and government expenditures on health came  to 2 percent of GDP; both figures are in the low range  for lower-middle-income Americas region countries.',\n",
       "   ' In 2009, according to WHO, official development  assistance (ODA) for health in Paraguay came to  $3.63 per capita.',\n",
       "   'Public Health Programs According to WHO, in 2002, Paraguay had 0.02 envi\\xad ronmental and public health workers per 1,000 pop\\xad ulation.',\n",
       "   'In 2010, 71 percent of the population had  access to improved sanitation facilities (40 percent  in rural areas and 90 percent in urban), and 86 per\\xad cent had access to improved sources of drinking water  (66 percent in rural areas and 99 percent in urban).',\n",
       "   ' According to the World Higher Education Database  (WHED), two universities in Paraguay offer programs  in epidemiology or public health: the National Uni\\xad versity of Asuncion, and the University of the Integra\\xad tion of the Americas in Asuncion.',\n",
       "   ' PERU Peru is a northwestern South American country, shar\\xad ing borders with Bolivia, Brazil, Chile, Colombia, and  Ecuador and having a coastline on the south Pacific  Ocean.',\n",
       "   'The area of 496,225 square miles (1,285,216  square kilometers) makes Peru the 20th-largest coun\\xad try in the world (similar in size to Alaska), and the July  2012 population was estimated at 29.5 million.',\n",
       "   'In 2010,  77 percent of the population lived in urban areas, and  the 2010 to 2015 annual rate of urbanization was esti\\xad mated at 1.6 percent.',\n",
       "   'Lima is the capital and largest'],\n",
       "  'page_sentence_count_spacy': 27,\n",
       "  'sentence_chunks': [['PERU\\t 361 operated one general hospital, one specialized hospi\\xad tal, 10 regional hospitals, five outlying clinics, and 60  first-level units.',\n",
       "    'The National University of Asuncion  has a teaching hospital, providing care primarily for  low-income people, and the Police Clinic in Asuncion  provides the most complex hospital care available in  Paraguay.',\n",
       "    'The private nonprofit sector operates 30  care facilities, and the private for-profit sector oper\\xad ate a number of hospitals, emergency services, phar\\xad macies, laboratories, physician offices, and other care  facilities.',\n",
       "    'As of 2010, according to WHO, Paraguay had  10.18 health posts per 100,000 population, 1.83 health  centers per 100,000, 2.17 district or rural hospitals per  100,000, 0.12 provincial hospitals per 100,000, and  0.26 specialized hospitals per 100,000.',\n",
       "    'In 2009, Para\\xad guay had 1.30 hospital beds per 1,000 population.',\n",
       "    'As  of 2007, 26 outpatient facilities plus the Psychiatric  Hospital provide mental health services.',\n",
       "    'Major Health Issues In 2008, WHO estimated that 35 percent of years of  life lost in Paraguay were due to communicable dis\\xad eases, 45 percent to noncommunicable diseases, and  21 percent to injuries.',\n",
       "    'In 2008, the age-standardized  estimate of cancer deaths was 133 per 100,000 for men  and 98 per 100,000 for women; for cardiovascular dis\\xad ease and diabetes, 269 per 100,000 for men and 228  per 100,000 for women; and for chronic respiratory  disease, 24 per 100,000 for men and 10 per 100,000  for women.',\n",
       "    ' Paraguay’s maternal mortality rate (death from  any cause related to or aggravated by pregnancy) was  estimated in 2008 as 95 maternal deaths per 100,000  live births.',\n",
       "    'The infant mortality rate, defined as the  number of deaths of infants younger than 1 year, was  estimated at 22.24 per 1,000 live births as of 2012.'],\n",
       "   ['In  2010, tuberculosis incidence was 46.0 per 100,000  population, tuberculosis prevalence 64.0 per 100,000,  and deaths due to tuberculosis among HIV-negative  people 4.20 per 100,000.',\n",
       "    'As of 2009, an estimated 0.3  percent of adults age 15 to 49 were living with HIV or  acquired immune deficiency syndrome (AIDS).',\n",
       "    ' Health Care Personnel As of 2007, Paraguay had four medical schools.',\n",
       "    'The  basic medical degree course lasts six years, and the  degree awarded is Médico Cirujano (physician and  surgeon).',\n",
       "    'In 2002, Paraguay had 1.11 physicians per  1,000 population, 0.33 pharmaceutical personnel  per 1,000, 0.55 dentistry personnel per 1,000, 1.15  community and traditional health workers per 1,000,  and 1.79 nurses and midwives per 1,000.',\n",
       "    ' Government Role in Health Care According to WHO, in 2010, Paraguay spent $1.1 bil\\xad lion on health care, an amount that comes to $163 per  capita.',\n",
       "    'Most (98 percent) health care funding came  from domestic sources, with 2 percent coming from  sources from abroad.',\n",
       "    'More than half (57 percent) of  health care spending was paid for through household  expenditures, with the remainder provided through  government expenditures (36 percent) and other  sources (7 percent).',\n",
       "    'In 2010, Paraguay allocated 11  percent of its total government expenditures to  health, and government expenditures on health came  to 2 percent of GDP; both figures are in the low range  for lower-middle-income Americas region countries.',\n",
       "    ' In 2009, according to WHO, official development  assistance (ODA) for health in Paraguay came to  $3.63 per capita.'],\n",
       "   ['Public Health Programs According to WHO, in 2002, Paraguay had 0.02 envi\\xad ronmental and public health workers per 1,000 pop\\xad ulation.',\n",
       "    'In 2010, 71 percent of the population had  access to improved sanitation facilities (40 percent  in rural areas and 90 percent in urban), and 86 per\\xad cent had access to improved sources of drinking water  (66 percent in rural areas and 99 percent in urban).',\n",
       "    ' According to the World Higher Education Database  (WHED), two universities in Paraguay offer programs  in epidemiology or public health: the National Uni\\xad versity of Asuncion, and the University of the Integra\\xad tion of the Americas in Asuncion.',\n",
       "    ' PERU Peru is a northwestern South American country, shar\\xad ing borders with Bolivia, Brazil, Chile, Colombia, and  Ecuador and having a coastline on the south Pacific  Ocean.',\n",
       "    'The area of 496,225 square miles (1,285,216  square kilometers) makes Peru the 20th-largest coun\\xad try in the world (similar in size to Alaska), and the July  2012 population was estimated at 29.5 million.',\n",
       "    'In 2010,  77 percent of the population lived in urban areas, and  the 2010 to 2015 annual rate of urbanization was esti\\xad mated at 1.6 percent.',\n",
       "    'Lima is the capital and largest']],\n",
       "  'num_chunks': 3}]"
      ]
     },
     "execution_count": 74,
     "metadata": {},
     "output_type": "execute_result"
    }
   ],
   "source": [
    "random.sample(pages_and_texts, k=1)"
   ]
  },
  {
   "cell_type": "code",
   "execution_count": 75,
   "id": "696fd093",
   "metadata": {},
   "outputs": [
    {
     "data": {
      "text/html": [
       "<div>\n",
       "<style scoped>\n",
       "    .dataframe tbody tr th:only-of-type {\n",
       "        vertical-align: middle;\n",
       "    }\n",
       "\n",
       "    .dataframe tbody tr th {\n",
       "        vertical-align: top;\n",
       "    }\n",
       "\n",
       "    .dataframe thead th {\n",
       "        text-align: right;\n",
       "    }\n",
       "</style>\n",
       "<table border=\"1\" class=\"dataframe\">\n",
       "  <thead>\n",
       "    <tr style=\"text-align: right;\">\n",
       "      <th></th>\n",
       "      <th>page_number</th>\n",
       "      <th>page_char_count</th>\n",
       "      <th>page_word_count</th>\n",
       "      <th>page_setence_count_raw</th>\n",
       "      <th>page_token_count</th>\n",
       "      <th>page_sentence_count_spacy</th>\n",
       "      <th>num_chunks</th>\n",
       "    </tr>\n",
       "  </thead>\n",
       "  <tbody>\n",
       "    <tr>\n",
       "      <th>count</th>\n",
       "      <td>606.00</td>\n",
       "      <td>606.00</td>\n",
       "      <td>606.00</td>\n",
       "      <td>606.00</td>\n",
       "      <td>606.00</td>\n",
       "      <td>606.00</td>\n",
       "      <td>606.0</td>\n",
       "    </tr>\n",
       "    <tr>\n",
       "      <th>mean</th>\n",
       "      <td>271.50</td>\n",
       "      <td>3930.82</td>\n",
       "      <td>667.31</td>\n",
       "      <td>22.26</td>\n",
       "      <td>982.71</td>\n",
       "      <td>21.66</td>\n",
       "      <td>2.6</td>\n",
       "    </tr>\n",
       "    <tr>\n",
       "      <th>std</th>\n",
       "      <td>175.08</td>\n",
       "      <td>995.11</td>\n",
       "      <td>181.24</td>\n",
       "      <td>9.58</td>\n",
       "      <td>248.78</td>\n",
       "      <td>8.37</td>\n",
       "      <td>0.8</td>\n",
       "    </tr>\n",
       "    <tr>\n",
       "      <th>min</th>\n",
       "      <td>-31.00</td>\n",
       "      <td>0.00</td>\n",
       "      <td>1.00</td>\n",
       "      <td>1.00</td>\n",
       "      <td>0.00</td>\n",
       "      <td>0.00</td>\n",
       "      <td>0.0</td>\n",
       "    </tr>\n",
       "    <tr>\n",
       "      <th>25%</th>\n",
       "      <td>120.25</td>\n",
       "      <td>3564.25</td>\n",
       "      <td>612.25</td>\n",
       "      <td>20.00</td>\n",
       "      <td>891.06</td>\n",
       "      <td>19.00</td>\n",
       "      <td>2.0</td>\n",
       "    </tr>\n",
       "    <tr>\n",
       "      <th>50%</th>\n",
       "      <td>271.50</td>\n",
       "      <td>3977.50</td>\n",
       "      <td>694.00</td>\n",
       "      <td>24.00</td>\n",
       "      <td>994.38</td>\n",
       "      <td>23.00</td>\n",
       "      <td>3.0</td>\n",
       "    </tr>\n",
       "    <tr>\n",
       "      <th>75%</th>\n",
       "      <td>422.75</td>\n",
       "      <td>4684.75</td>\n",
       "      <td>801.75</td>\n",
       "      <td>27.00</td>\n",
       "      <td>1171.19</td>\n",
       "      <td>27.00</td>\n",
       "      <td>3.0</td>\n",
       "    </tr>\n",
       "    <tr>\n",
       "      <th>max</th>\n",
       "      <td>574.00</td>\n",
       "      <td>7990.00</td>\n",
       "      <td>902.00</td>\n",
       "      <td>129.00</td>\n",
       "      <td>1997.50</td>\n",
       "      <td>69.00</td>\n",
       "      <td>7.0</td>\n",
       "    </tr>\n",
       "  </tbody>\n",
       "</table>\n",
       "</div>"
      ],
      "text/plain": [
       "       page_number  page_char_count  page_word_count  page_setence_count_raw  \\\n",
       "count       606.00           606.00           606.00                  606.00   \n",
       "mean        271.50          3930.82           667.31                   22.26   \n",
       "std         175.08           995.11           181.24                    9.58   \n",
       "min         -31.00             0.00             1.00                    1.00   \n",
       "25%         120.25          3564.25           612.25                   20.00   \n",
       "50%         271.50          3977.50           694.00                   24.00   \n",
       "75%         422.75          4684.75           801.75                   27.00   \n",
       "max         574.00          7990.00           902.00                  129.00   \n",
       "\n",
       "       page_token_count  page_sentence_count_spacy  num_chunks  \n",
       "count            606.00                     606.00       606.0  \n",
       "mean             982.71                      21.66         2.6  \n",
       "std              248.78                       8.37         0.8  \n",
       "min                0.00                       0.00         0.0  \n",
       "25%              891.06                      19.00         2.0  \n",
       "50%              994.38                      23.00         3.0  \n",
       "75%             1171.19                      27.00         3.0  \n",
       "max             1997.50                      69.00         7.0  "
      ]
     },
     "execution_count": 75,
     "metadata": {},
     "output_type": "execute_result"
    }
   ],
   "source": [
    "df = pd.DataFrame(pages_and_texts)\n",
    "df.describe().round(2)"
   ]
  },
  {
   "cell_type": "markdown",
   "id": "631b71e9",
   "metadata": {},
   "source": [
    "### Splitting each chunk into its own item\n",
    "We'd like to embed each chunk of sentences into its own numerical representation.\n",
    "\n",
    "That'll give us a good level of granularity.\n",
    "\n",
    "Meaning, we can dive specifically into the text sample that was used in our model."
   ]
  },
  {
   "cell_type": "code",
   "execution_count": 76,
   "id": "a37415d2",
   "metadata": {},
   "outputs": [
    {
     "data": {
      "application/vnd.jupyter.widget-view+json": {
       "model_id": "3246054e4e5d4c7983d4efa1c11f6f8e",
       "version_major": 2,
       "version_minor": 0
      },
      "text/plain": [
       "  0%|          | 0/606 [00:00<?, ?it/s]"
      ]
     },
     "metadata": {},
     "output_type": "display_data"
    },
    {
     "data": {
      "text/plain": [
       "1577"
      ]
     },
     "execution_count": 76,
     "metadata": {},
     "output_type": "execute_result"
    }
   ],
   "source": [
    "import re\n",
    "\n",
    "# Split each chunk into its own item\n",
    "pages_and_chunks = []\n",
    "for item in tqdm(pages_and_texts): \n",
    "    for sentence_chunk in item[\"sentence_chunks\"]: \n",
    "        chunk_dict = {}\n",
    "        chunk_dict[\"page_number\"] = item[\"page_number\"]\n",
    "\n",
    "        # Join the sentences together into a paragraph-like structure, aka join the list of sentences into one paragraph\n",
    "        joined_sentence_chunk = \"\".join(sentence_chunk).replace(\"  \", \" \").strip()\n",
    "        joined_sentence_chunk = re.sub(r'\\.([A-Z])', r'. \\1', joined_sentence_chunk) # \".A\" => \". A\" (will work for any captial letter)\n",
    "\n",
    "        chunk_dict[\"sentence_chunk\"] = joined_sentence_chunk\n",
    "\n",
    "        # Get some stats on our chunks\n",
    "        chunk_dict[\"chunk_char_count\"] = len(joined_sentence_chunk)\n",
    "        chunk_dict[\"chunk_word_count\"] = len([word for word in joined_sentence_chunk.split(\" \")])\n",
    "        chunk_dict[\"chunk_token_count\"] = len(joined_sentence_chunk) / 4 # 1 token = ~4 chars\n",
    "\n",
    "        pages_and_chunks.append(chunk_dict) \n",
    "\n",
    "len(pages_and_chunks)"
   ]
  },
  {
   "cell_type": "code",
   "execution_count": 80,
   "id": "06f11249",
   "metadata": {},
   "outputs": [
    {
     "data": {
      "text/plain": [
       "[{'page_number': 41,\n",
       "  'sentence_chunk': '42\\t BARBADOS 2011 Mothers’ Index, produced by the international nongovernmental organization (NGO) Save the Chil\\xad dren, based on a number of health and social factors relating to women, children, and maternal and child care. According to WHO, in 2007, 100 percent of births in Barbados were attended by skilled person\\xad nel (for example, physicians, nurses, or midwives). In 2007, 100 percent of pregnant women received at least one prenatal care visit. The 2010 immunization rates for 1-year-olds were 86 percent for diphtheria and pertussis (DPT3), 85 percent for measles (MCV), and 86 percent for Hib (Hib3). Cost of Drugs The Barbados Drug Service obtains essential drugs from a local manufacturer and from sources in Europe, South America, the United States, and Canada. Barba\\xad dos maintains a national Drug Formulary, and some medications are provided free to children under age 16, persons over age 65, and for treatment of asthma, cancer, diabetes, epilepsy, and hypertension. Vaccines are purchased through the Pan American Health Orga\\xad nization’s (PAHO’s) Revolving Fund for Vaccine Pro\\xad curement. From 2004 to 2005, Barbados spent $11.7 million providing drug benefits to the population. Health Care Facilities Queen Elizabeth Hospital, located in Bridgetown, is the main hospital in Barbados and is also the teaching hospital for the Cave Hill Campus of the University of the West Indies. In 2008, Barbados had 7.60 hospital beds per 1,000 population, the 10th-highest ratio in the world.',\n",
       "  'chunk_char_count': 1499,\n",
       "  'chunk_word_count': 234,\n",
       "  'chunk_token_count': 374.75}]"
      ]
     },
     "execution_count": 80,
     "metadata": {},
     "output_type": "execute_result"
    }
   ],
   "source": [
    "random.sample(pages_and_chunks, k=1)"
   ]
  },
  {
   "cell_type": "code",
   "execution_count": 81,
   "id": "c12d5339",
   "metadata": {},
   "outputs": [
    {
     "data": {
      "text/html": [
       "<div>\n",
       "<style scoped>\n",
       "    .dataframe tbody tr th:only-of-type {\n",
       "        vertical-align: middle;\n",
       "    }\n",
       "\n",
       "    .dataframe tbody tr th {\n",
       "        vertical-align: top;\n",
       "    }\n",
       "\n",
       "    .dataframe thead th {\n",
       "        text-align: right;\n",
       "    }\n",
       "</style>\n",
       "<table border=\"1\" class=\"dataframe\">\n",
       "  <thead>\n",
       "    <tr style=\"text-align: right;\">\n",
       "      <th></th>\n",
       "      <th>page_number</th>\n",
       "      <th>chunk_char_count</th>\n",
       "      <th>chunk_word_count</th>\n",
       "      <th>chunk_token_count</th>\n",
       "    </tr>\n",
       "  </thead>\n",
       "  <tbody>\n",
       "    <tr>\n",
       "      <th>count</th>\n",
       "      <td>1577.00</td>\n",
       "      <td>1577.00</td>\n",
       "      <td>1577.00</td>\n",
       "      <td>1577.00</td>\n",
       "    </tr>\n",
       "    <tr>\n",
       "      <th>mean</th>\n",
       "      <td>264.72</td>\n",
       "      <td>1488.85</td>\n",
       "      <td>235.38</td>\n",
       "      <td>372.21</td>\n",
       "    </tr>\n",
       "    <tr>\n",
       "      <th>std</th>\n",
       "      <td>164.96</td>\n",
       "      <td>553.29</td>\n",
       "      <td>87.74</td>\n",
       "      <td>138.32</td>\n",
       "    </tr>\n",
       "    <tr>\n",
       "      <th>min</th>\n",
       "      <td>-30.00</td>\n",
       "      <td>7.00</td>\n",
       "      <td>1.00</td>\n",
       "      <td>1.75</td>\n",
       "    </tr>\n",
       "    <tr>\n",
       "      <th>25%</th>\n",
       "      <td>122.00</td>\n",
       "      <td>1283.00</td>\n",
       "      <td>202.00</td>\n",
       "      <td>320.75</td>\n",
       "    </tr>\n",
       "    <tr>\n",
       "      <th>50%</th>\n",
       "      <td>265.00</td>\n",
       "      <td>1620.00</td>\n",
       "      <td>256.00</td>\n",
       "      <td>405.00</td>\n",
       "    </tr>\n",
       "    <tr>\n",
       "      <th>75%</th>\n",
       "      <td>406.00</td>\n",
       "      <td>1834.00</td>\n",
       "      <td>292.00</td>\n",
       "      <td>458.50</td>\n",
       "    </tr>\n",
       "    <tr>\n",
       "      <th>max</th>\n",
       "      <td>574.00</td>\n",
       "      <td>3317.00</td>\n",
       "      <td>500.00</td>\n",
       "      <td>829.25</td>\n",
       "    </tr>\n",
       "  </tbody>\n",
       "</table>\n",
       "</div>"
      ],
      "text/plain": [
       "       page_number  chunk_char_count  chunk_word_count  chunk_token_count\n",
       "count      1577.00           1577.00           1577.00            1577.00\n",
       "mean        264.72           1488.85            235.38             372.21\n",
       "std         164.96            553.29             87.74             138.32\n",
       "min         -30.00              7.00              1.00               1.75\n",
       "25%         122.00           1283.00            202.00             320.75\n",
       "50%         265.00           1620.00            256.00             405.00\n",
       "75%         406.00           1834.00            292.00             458.50\n",
       "max         574.00           3317.00            500.00             829.25"
      ]
     },
     "execution_count": 81,
     "metadata": {},
     "output_type": "execute_result"
    }
   ],
   "source": [
    "df = pd.DataFrame(pages_and_chunks)\n",
    "df.describe().round(2)"
   ]
  },
  {
   "cell_type": "code",
   "execution_count": 84,
   "id": "ace4f4ab",
   "metadata": {},
   "outputs": [
    {
     "data": {
      "text/html": [
       "<div>\n",
       "<style scoped>\n",
       "    .dataframe tbody tr th:only-of-type {\n",
       "        vertical-align: middle;\n",
       "    }\n",
       "\n",
       "    .dataframe tbody tr th {\n",
       "        vertical-align: top;\n",
       "    }\n",
       "\n",
       "    .dataframe thead th {\n",
       "        text-align: right;\n",
       "    }\n",
       "</style>\n",
       "<table border=\"1\" class=\"dataframe\">\n",
       "  <thead>\n",
       "    <tr style=\"text-align: right;\">\n",
       "      <th></th>\n",
       "      <th>page_number</th>\n",
       "      <th>sentence_chunk</th>\n",
       "      <th>chunk_char_count</th>\n",
       "      <th>chunk_word_count</th>\n",
       "      <th>chunk_token_count</th>\n",
       "    </tr>\n",
       "  </thead>\n",
       "  <tbody>\n",
       "    <tr>\n",
       "      <th>0</th>\n",
       "      <td>-30</td>\n",
       "      <td>HEALTH CARE SYSTEMS AROUND THE WORLD</td>\n",
       "      <td>36</td>\n",
       "      <td>6</td>\n",
       "      <td>9.00</td>\n",
       "    </tr>\n",
       "    <tr>\n",
       "      <th>1</th>\n",
       "      <td>-28</td>\n",
       "      <td>HEALTH CARE SYSTEMS AROUND THE WORLD A Compara...</td>\n",
       "      <td>100</td>\n",
       "      <td>15</td>\n",
       "      <td>25.00</td>\n",
       "    </tr>\n",
       "    <tr>\n",
       "      <th>2</th>\n",
       "      <td>-27</td>\n",
       "      <td>FOR INFORMATION: SAGE Publications, Inc. 2455 ...</td>\n",
       "      <td>1483</td>\n",
       "      <td>219</td>\n",
       "      <td>370.75</td>\n",
       "    </tr>\n",
       "    <tr>\n",
       "      <th>3</th>\n",
       "      <td>-27</td>\n",
       "      <td>2. Cross-Cultural Comparison.3. Health Policy....</td>\n",
       "      <td>184</td>\n",
       "      <td>61</td>\n",
       "      <td>46.00</td>\n",
       "    </tr>\n",
       "    <tr>\n",
       "      <th>4</th>\n",
       "      <td>-26</td>\n",
       "      <td>CONTENTS Afghanistan.............................</td>\n",
       "      <td>1947</td>\n",
       "      <td>44</td>\n",
       "      <td>486.75</td>\n",
       "    </tr>\n",
       "  </tbody>\n",
       "</table>\n",
       "</div>"
      ],
      "text/plain": [
       "   page_number                                     sentence_chunk  \\\n",
       "0          -30               HEALTH CARE SYSTEMS AROUND THE WORLD   \n",
       "1          -28  HEALTH CARE SYSTEMS AROUND THE WORLD A Compara...   \n",
       "2          -27  FOR INFORMATION: SAGE Publications, Inc. 2455 ...   \n",
       "3          -27  2. Cross-Cultural Comparison.3. Health Policy....   \n",
       "4          -26  CONTENTS Afghanistan.............................   \n",
       "\n",
       "   chunk_char_count  chunk_word_count  chunk_token_count  \n",
       "0                36                 6               9.00  \n",
       "1               100                15              25.00  \n",
       "2              1483               219             370.75  \n",
       "3               184                61              46.00  \n",
       "4              1947                44             486.75  "
      ]
     },
     "execution_count": 84,
     "metadata": {},
     "output_type": "execute_result"
    }
   ],
   "source": [
    "df.head()"
   ]
  },
  {
   "cell_type": "markdown",
   "id": "8689f3f7",
   "metadata": {},
   "source": [
    "### Filter chunks of text for short chunks\n",
    "These chunks may not contain much useful information."
   ]
  },
  {
   "cell_type": "code",
   "execution_count": 96,
   "id": "1db965b5",
   "metadata": {},
   "outputs": [
    {
     "name": "stdout",
     "output_type": "stream",
     "text": [
      "Chunk token count: 21.75 | Text: Life expectancy at birth in 2012 was estimated at 82.50 years, among the highest in the\n",
      "Chunk token count: 10.0 | Text: Most (83 percent) of health care funding\n",
      "Chunk token count: 9.75 | Text: Despite these difficulties, North Korea\n",
      "Chunk token count: 21.5 | Text: UNITED KINGDOM) BOLIVIA PERU BRAZIL URUGUA Y  P AR AG UA Y C H I L E 0 300 Mi 0 300 Km\n",
      "Chunk token count: 25.0 | Text: HEALTH CARE SYSTEMS AROUND THE WORLD A Comparative Guide Sarah E. Boslaugh Kennesaw State University\n"
     ]
    }
   ],
   "source": [
    "# Show random chunks with under 30 tokens in length\n",
    "min_token_length = 30\n",
    "for row in df[df[\"chunk_token_count\"] <= min_token_length].sample(5).iterrows():\n",
    "    print(f'Chunk token count: {row[1][\"chunk_token_count\"]} | Text: {row[1][\"sentence_chunk\"]}')"
   ]
  },
  {
   "cell_type": "code",
   "execution_count": 98,
   "id": "809264be",
   "metadata": {},
   "outputs": [
    {
     "data": {
      "text/plain": [
       "[{'page_number': -27,\n",
       "  'sentence_chunk': 'FOR INFORMATION: SAGE Publications, Inc. 2455 Teller Road Thousand Oaks, California 91320 E-mail: order@sagepub.com SAGE Publications India Pvt. Ltd. B 1/I 1 Mohan Cooperative Industrial Area Mathura Road, New Delhi 110 044 India SAGE Publications Ltd. 1 Oliver’s Yard 55 City Road London EC1Y 1SP United Kingdom SAGE Publications Asia-Pacific Pte. Ltd. 33 Pekin Street #02-01 Far East Square Singapore 048763 Senior Editor: Jim Brace-Thompson Cover Designer: Michael Dubowe Reference Systems Manager: Leticia Gutierrez Reference Systems Coordinators: Laura Notton   \\t Anna Villasenor Marketing Manager: Carmel Schrire Golson Media President and Editor: J. Geoffrey Golson Production Director: Mary Jo Scibetta Layout Editor: Oona Patrick Copyeditor: Pam Schroeder Proofreader: Rebecca Kuzins Indexer: J S Editorial Copyright © 2013 by SAGE Publications, Inc. All rights reserved. No part of this book may be reproduced or utilized in any form or by any means, electronic or mechanical, including photocopying, recording, or by any information storage and retrieval system, without permission in writing from the publisher. Printed in the United States of America Library of Congress Cataloging-in-Publication Data Boslaugh, Sarah E.  Health care systems around the world : a comparative guide / Sarah E. Boslaugh.    p. ; cm. Includes bibliographical references and index. ISBN 978-1-4522-0312-6 (cloth)  I. Title. [DNLM: 1. Delivery of Health Care--organization & administra\\xad tion.',\n",
       "  'chunk_char_count': 1483,\n",
       "  'chunk_word_count': 219,\n",
       "  'chunk_token_count': 370.75},\n",
       " {'page_number': -27,\n",
       "  'sentence_chunk': '2. Cross-Cultural Comparison.3. Health Policy.4. Health Status.5. World Health. W 84.1]  RA418  362.1--dc23                               2013009279 13 14 15 16 17 10 9 8 7 6 5 4 3 2 1',\n",
       "  'chunk_char_count': 184,\n",
       "  'chunk_word_count': 61,\n",
       "  'chunk_token_count': 46.0}]"
      ]
     },
     "execution_count": 98,
     "metadata": {},
     "output_type": "execute_result"
    }
   ],
   "source": [
    "# Filter our DataFrame for rows with under 30 tokens\n",
    "pages_and_chunks_over_min_token_len = df[df[\"chunk_token_count\"] > min_token_length].to_dict(orient=\"records\")\n",
    "pages_and_chunks_over_min_token_len[:2]"
   ]
  },
  {
   "cell_type": "code",
   "execution_count": 99,
   "id": "a2b010ec",
   "metadata": {},
   "outputs": [
    {
     "data": {
      "text/plain": [
       "[{'page_number': 134,\n",
       "  'sentence_chunk': 'The sys\\xad tem is funded by a wage tax (3.04 percent of covered earnings) and an employer payroll tax (7.09 percent of covered earnings). Medical care covered includes inpatient and outpatient care, preventive care, mater\\xad nity care, surgery, emergency care, medicines, and prostheses for the disabled. Medicines are covered at 70 percent and are provided free to those on social assistance. Pediatric health care is provided until age 5 and includes child development programs, health care, and nutrition programs. The maternity benefit is equivalent to three months’ earnings for the insured, paid for six weeks prior to and after the due date. For low-income people, a nursing allowance is also paid for the first year of the child’s life. The sickness ben\\xad efit is 60 percent of earnings for up to 26 weeks; if the patient is hospitalized, the benefit is 40 percent of earnings. In 2002, 21.1 percent of the population had private health insurance (44.4 percent in the highest- income quintile and 21.1 percent in the lowest). Costs of Hospitalization No data available. Access to Health Care Primary care is organized by interdisciplinary teams consisting of a physician, a nursing assistant, a com\\xad munity health agent, and several health promoters; these teams are responsible for about 500 families each.',\n",
       "  'chunk_char_count': 1310,\n",
       "  'chunk_word_count': 211,\n",
       "  'chunk_token_count': 327.5}]"
      ]
     },
     "execution_count": 99,
     "metadata": {},
     "output_type": "execute_result"
    }
   ],
   "source": [
    "\n",
    "random.sample(pages_and_chunks_over_min_token_len, k=1)"
   ]
  },
  {
   "cell_type": "markdown",
   "id": "00665e23",
   "metadata": {},
   "source": [
    "### Embedding our text chunks\n",
    "Embeddings are a broad but powerful concept.\n",
    "\n",
    "While humans understand text, machines understand numbers.\n",
    "\n",
    "What we'd like to do:\n",
    "\n",
    "Turn our text chunks into numbers, specifically embeddings.\n",
    "A useful numerical representation.\n",
    "\n",
    "The best part about embeddings is that are a learned representation.\n",
    "\n",
    "{\"the\": 0,\n",
    "\"a\": 1,\n",
    "...\n",
    "\n",
    "For a great resource on learning embeddings, see here: https://vickiboykis.com/what_are_embeddings/"
   ]
  },
  {
   "cell_type": "code",
   "execution_count": 1,
   "id": "cacc12ec",
   "metadata": {},
   "outputs": [
    {
     "ename": "ModuleNotFoundError",
     "evalue": "No module named 'sentence_transformers'",
     "output_type": "error",
     "traceback": [
      "\u001b[1;31m---------------------------------------------------------------------------\u001b[0m",
      "\u001b[1;31mModuleNotFoundError\u001b[0m                       Traceback (most recent call last)",
      "Cell \u001b[1;32mIn[1], line 1\u001b[0m\n\u001b[1;32m----> 1\u001b[0m \u001b[38;5;28;01mfrom\u001b[39;00m \u001b[38;5;21;01msentence_transformers\u001b[39;00m \u001b[38;5;28;01mimport\u001b[39;00m SentenceTransformer\n\u001b[0;32m      2\u001b[0m embedding_model \u001b[38;5;241m=\u001b[39m SentenceTransformer(model_name_or_path\u001b[38;5;241m=\u001b[39m\u001b[38;5;124m\"\u001b[39m\u001b[38;5;124mall-mpnet-base-v2\u001b[39m\u001b[38;5;124m\"\u001b[39m,\n\u001b[0;32m      3\u001b[0m                                       device\u001b[38;5;241m=\u001b[39m\u001b[38;5;124m\"\u001b[39m\u001b[38;5;124mcpu\u001b[39m\u001b[38;5;124m\"\u001b[39m)\n\u001b[0;32m      5\u001b[0m \u001b[38;5;66;03m# Create a list of sentences\u001b[39;00m\n",
      "\u001b[1;31mModuleNotFoundError\u001b[0m: No module named 'sentence_transformers'"
     ]
    }
   ],
   "source": [
    "from sentence_transformers import SentenceTransformer\n",
    "embedding_model = SentenceTransformer(model_name_or_path=\"all-mpnet-base-v2\",\n",
    "                                      device=\"cpu\")\n",
    "\n",
    "# Create a list of sentences\n",
    "sentences = [\"The Sentence Transformer library provides an easy way to create embeddings.\",\n",
    "             \"Sentences can be embedded one by one or in a list.\",\n",
    "             \"I like horses!\"]\n",
    "\n",
    "# Sentences are encoded/embedded by calling model.encode()\n",
    "embeddings = embedding_model.encode(sentences)\n",
    "embeddings_dict = dict(zip(sentences, embeddings))\n",
    "\n",
    "# See the embeddings\n",
    "for sentence, embedding in embeddings_dict.items():\n",
    "    print(f\"Sentence: {sentence}\")\n",
    "    print(f\"Embedding: {embedding}\")\n",
    "    print(\"\")"
   ]
  },
  {
   "cell_type": "code",
   "execution_count": null,
   "id": "44ee0d68",
   "metadata": {},
   "outputs": [],
   "source": []
  }
 ],
 "metadata": {
  "kernelspec": {
   "display_name": "Python 3 (ipykernel)",
   "language": "python",
   "name": "python3"
  },
  "language_info": {
   "codemirror_mode": {
    "name": "ipython",
    "version": 3
   },
   "file_extension": ".py",
   "mimetype": "text/x-python",
   "name": "python",
   "nbconvert_exporter": "python",
   "pygments_lexer": "ipython3",
   "version": "3.11.5"
  }
 },
 "nbformat": 4,
 "nbformat_minor": 5
}
